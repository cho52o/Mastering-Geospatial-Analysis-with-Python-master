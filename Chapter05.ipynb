{
 "cells": [
  {
   "cell_type": "markdown",
   "metadata": {},
   "source": [
    "<h1> 벡터 데이터 분석 <h1>  \n",
    "\n",
    "### Shapely, OGR, GeoPandas 같은 벡터 데이터를 분석하고 처리하는 데 사용되는 파이썬 라이브러리 다루기  \n",
    "\n",
    "* 벡터 데이터 읽기 및 쓰기  \n",
    "* 벡터 데이터 생성 및 처리  \n",
    "* 지도에서 벡터 데이터 시각화  \n",
    "* 지도 투영 및 데이터 재투영 작업  \n",
    "* 공간 결합과 같은 공간 연산 수행  \n",
    "* 데이블 형식으로 벡터 지오메트리 및 속성 데이터 작업  \n",
    "* 영역 x 내 산불 횟수에 관한 질문에 답하기 위한 결과 분석  "
   ]
  },
  {
   "cell_type": "markdown",
   "metadata": {},
   "source": [
    "<h1>OGR Simple Features Library</h1>\n",
    "\n",
    "OGR 라이브러리: 벡터 데이터 설명 및 처리\n",
    "OGR 배치 명령\n",
    "* ogrinfo: 벡터 데이터의 정보(포멧, 사용가능 레이어, 요약)  \n",
    "* ogr2ogr: 포멧 변경  "
   ]
  },
  {
   "cell_type": "markdown",
   "metadata": {},
   "source": [
    "<h2>ogrmerge.py example</h2>"
   ]
  },
  {
   "cell_type": "code",
   "execution_count": 1,
   "metadata": {},
   "outputs": [],
   "source": [
    "%run \"/Users/choyeon/opt/anaconda3/pkgs/gdal-2.2.2-py36hd505dc6_1/lib/python3.6/site-packages/GDAL-2.2.2-py3.6-macosx-10.9-x86_64.egg-info/scripts/ogrmerge.py\" -f GPKG -o merged.gpkg \"/Users/choyeon/Documents/SIA/study/data/NE/10m_cultural/*.shp\""
   ]
  },
  {
   "cell_type": "markdown",
   "metadata": {},
   "source": [
    "## OGR 주요 모듈과 코드"
   ]
  },
  {
   "cell_type": "markdown",
   "metadata": {},
   "source": [
    "<h2>OGR code examples</h2>"
   ]
  },
  {
   "cell_type": "code",
   "execution_count": 15,
   "metadata": {},
   "outputs": [
    {
     "name": "stdout",
     "output_type": "stream",
     "text": [
      "POLYGON ((1 1 0,5 1 0,5 5 0,1 5 0,1 1 0))\n"
     ]
    }
   ],
   "source": [
    "# Example 1 – create polygon geometry with OGR\n",
    "### OGR로 폴리곤 데이터 생성하기\n",
    "from osgeo import ogr\n",
    "r = ogr.Geometry(ogr.wkbLinearRing)\n",
    "r.AddPoint(1,1)\n",
    "r.AddPoint(5,1)\n",
    "r.AddPoint(5,5)\n",
    "r.AddPoint(1,5)\n",
    "r.AddPoint(1,1)\n",
    "poly = ogr.Geometry(ogr.wkbPolygon)\n",
    "poly.AddGeometry(r)\n",
    "print(poly.ExportToWkt())"
   ]
  },
  {
   "cell_type": "code",
   "execution_count": 14,
   "metadata": {},
   "outputs": [
    {
     "name": "stdout",
     "output_type": "stream",
     "text": [
      "POLYGON ((1 1,5 1,5 5,1 5,1 1))\n"
     ]
    }
   ],
   "source": [
    "# Example 2 – create polygon geometry from GeoJSON\n",
    "### GeoJSON에서 콜리곤 지오메트리 생성하기\n",
    "from osgeo import ogr\n",
    "geojson = \"\"\"{\"type\":\"Polygon\",\"coordinates\":[[[1,1],[5,1],[5,5],[1,5], [1,1]]]}\"\"\"\n",
    "polygon = ogr.CreateGeometryFromJson(geojson)\n",
    "print(polygon) "
   ]
  },
  {
   "cell_type": "code",
   "execution_count": 16,
   "metadata": {},
   "outputs": [
    {
     "name": "stdout",
     "output_type": "stream",
     "text": [
      "The area of our polygon is 16\n"
     ]
    }
   ],
   "source": [
    "# Example 3 - basic geometric operations\n",
    "### 기본 지오메트리 연산\n",
    "# 1 create area\n",
    "### 영역 생성\n",
    "print(\"The area of our polygon is %d\" % polygon.Area())"
   ]
  },
  {
   "cell_type": "code",
   "execution_count": 17,
   "metadata": {},
   "outputs": [
    {
     "name": "stdout",
     "output_type": "stream",
     "text": [
      "POINT (3 3)\n"
     ]
    }
   ],
   "source": [
    "# 2 calculate centroid of polygon\n",
    "### 폴리곤 중심점 계산\n",
    "cen = polygon.Centroid()\n",
    "print(cen)"
   ]
  },
  {
   "cell_type": "code",
   "execution_count": 18,
   "metadata": {},
   "outputs": [
    {
     "name": "stdout",
     "output_type": "stream",
     "text": [
      "LINESTRING (1 1,5 1,5 5,1 5,1 1)\n"
     ]
    }
   ],
   "source": [
    "# 3 Get the boundary\n",
    "### 경계 얻기\n",
    "b = polygon.GetBoundary()\n",
    "print(b)"
   ]
  },
  {
   "cell_type": "code",
   "execution_count": 19,
   "metadata": {},
   "outputs": [
    {
     "name": "stdout",
     "output_type": "stream",
     "text": [
      "POLYGON ((1 1,1 5,5 5,5 1,1 1))\n"
     ]
    }
   ],
   "source": [
    "# 4 convex hull does the same in this case as boundary, as our polyogn is a square:\n",
    "### 볼록 선체 경계\n",
    "ch = polygon.ConvexHull() \n",
    "print(ch)"
   ]
  },
  {
   "cell_type": "code",
   "execution_count": 20,
   "metadata": {},
   "outputs": [
    {
     "name": "stdout",
     "output_type": "stream",
     "text": [
      "POLYGON ((1 1,1 5,5 5,5 1,1 1))\n"
     ]
    }
   ],
   "source": [
    "#5 buffer. A buffer value of 0 (zero) returns the same values as boundary and convex hull in this example:\n",
    "### 버퍼가 0이면 경계와 동일\n",
    "buffer = polygon.Buffer(0) \n",
    "print(buffer)"
   ]
  },
  {
   "cell_type": "code",
   "execution_count": 21,
   "metadata": {},
   "outputs": [
    {
     "data": {
      "text/plain": [
       "False"
      ]
     },
     "execution_count": 21,
     "metadata": {},
     "output_type": "execute_result"
    }
   ],
   "source": [
    "# 6 check if a point is inside our polygon\n",
    "### 포인트가 폴리곤 내부에 있는지 판단\n",
    "point = ogr.Geometry(ogr.wkbPoint)\n",
    "point.AddPoint(10, 10)\n",
    "polygon.Contains(point)"
   ]
  },
  {
   "cell_type": "code",
   "execution_count": 32,
   "metadata": {},
   "outputs": [
    {
     "data": {
      "text/plain": [
       "0"
      ]
     },
     "execution_count": 32,
     "metadata": {},
     "output_type": "execute_result"
    }
   ],
   "source": [
    "#Example 4 – writing polygon data to a newly created shapefile\n",
    "### 신규 쉐이프 파일에 폴리곤 데이터 쓰기\n",
    "\n",
    "import osgeo.ogr, osgeo.osr\n",
    "# 1 set the spatial reference\n",
    "### 공간 참조 설정\n",
    "spatialReference = osgeo.osr.SpatialReference()\n",
    "spatialReference.ImportFromProj4('+proj=longlat +ellps=WGS84 +datum=WGS84 +no_defs')\n",
    "\n",
    "# 2 create a new shapefile\n",
    "### 쉐이프 파일 생성\n",
    "driver = osgeo.ogr.GetDriverByName('ESRI Shapefile')\n",
    "shapeData = driver.CreateDataSource('my_polygon.shp')\n",
    "\n",
    "# 3 create the layer\n",
    "### 레이어 생성\n",
    "layer = shapeData.CreateLayer('polygon_layer', spatialReference, osgeo.ogr.wkbPolygon)\n",
    "layerDefinition = layer.GetLayerDefn()\n",
    "\n",
    "# 4 geometry is put inside feature\n",
    "### 지오메트리 입력\n",
    "featureIndex = 0\n",
    "feature = osgeo.ogr.Feature(layerDefinition)\n",
    "feature.SetGeometry(polygon)\n",
    "feature.SetFID(featureIndex)\n",
    "\n",
    "# 5 feature is put into layer\n",
    "### 입력값 출력\n",
    "layer.CreateFeature(feature)"
   ]
  },
  {
   "cell_type": "code",
   "execution_count": 33,
   "metadata": {},
   "outputs": [
    {
     "name": "stdout",
     "output_type": "stream",
     "text": [
      "INFO: Open of `my_polygon.shp'\r\n",
      "      using driver `ESRI Shapefile' successful.\r\n",
      "1: my_polygon (Polygon)\r\n"
     ]
    }
   ],
   "source": [
    "!ogrinfo my_polygon.shp"
   ]
  },
  {
   "cell_type": "code",
   "execution_count": 34,
   "metadata": {},
   "outputs": [
    {
     "name": "stdout",
     "output_type": "stream",
     "text": [
      "Ardmore\n",
      "McAlester\n",
      "Bryan\n",
      "San Marcos\n",
      "Longview\n",
      "McAllen\n",
      "Harlingen\n",
      "Alice\n",
      "New Braunfels\n",
      "Cleburne\n",
      "Brownwood\n",
      "Big Spring\n",
      "Vernon\n",
      "Childress\n",
      "Texas City\n",
      "Pasadena\n",
      "Baytown\n",
      "Arlington\n",
      "Texarkana\n",
      "Fort Smith\n",
      "Lawton\n",
      "Norman\n",
      "Muskogee\n",
      "Shawnee\n",
      "Conroe\n",
      "Nacogdoches\n",
      "Eagle Pass\n",
      "Edinburg\n",
      "Kingsville\n",
      "Huntsville\n",
      "Killeen\n",
      "Lufkin\n",
      "Del Rio\n",
      "San Angelo\n",
      "Sherman\n",
      "Beaumont\n",
      "Bay City\n",
      "Port Lavaca\n",
      "Falfurrias\n",
      "Beeville\n",
      "Dumas\n",
      "Denton\n",
      "Temple\n",
      "Galveston\n",
      "Freeport\n",
      "Victoria\n",
      "Wichita Falls\n",
      "Waco\n",
      "Lubbock\n",
      "Abilene\n",
      "Tyler\n",
      "Ft. Worth\n",
      "Corpus Christi\n",
      "Austin\n",
      "Amarillo\n",
      "Laredo\n",
      "Oklahoma City\n",
      "San Antonio\n",
      "Dallas\n",
      "Houston\n"
     ]
    }
   ],
   "source": [
    "#Example 5 – using a spatial filter to select features\n",
    "### 공간 필터를 사용해 특징 선택하기\n",
    "# import the modules\n",
    "from osgeo import ogr\n",
    "import os\n",
    "\n",
    "# reference the shapefile and specify driver type\n",
    "shapefile = r\"/Users/choyeon/Documents/SIA/study/data/NE/10m_cultural/ne_10m_populated_places.shp\"\n",
    "driver = ogr.GetDriverByName(\"ESRI Shapefile\")\n",
    "\n",
    "# open the data source with driver, zero means open in read-only mode\n",
    "### 데이터 열기\n",
    "dataSource = driver.Open(shapefile, 0)\n",
    "\n",
    "# use the GetLayer() function for referencing the layer that holds the data\n",
    "### 데이터의 레이어 참조\n",
    "layer = dataSource.GetLayer()\n",
    "\n",
    "# pass in the coordinates for the data frame to the SetSpatialFilterRect() function.\n",
    "# this filter creates a rectangular extent and selects the features inside the extent\n",
    "### 좌표값 사각형의 내부값 가져오기\n",
    "layer.SetSpatialFilterRect(-102, 26, -94, 36)\n",
    "for feature in layer:\n",
    "    # select only the cities inside of the USA\n",
    "    # we can do this through a SQL query:\n",
    "    # we skip the cities that are not in the USA,\n",
    "    # and print the names of the cities that are\n",
    "    ### 미국 내 도시 이름 출력\n",
    "    if feature.GetField(\"ADM0NAME\") != \"United States of America\":\n",
    "        continue\n",
    "    else:\n",
    "        print(feature.GetField(\"NAME\"))"
   ]
  },
  {
   "cell_type": "markdown",
   "metadata": {},
   "source": [
    "<h1>Shapely and Fiona</h1>"
   ]
  },
  {
   "cell_type": "code",
   "execution_count": 1,
   "metadata": {
    "scrolled": true
   },
   "outputs": [
    {
     "data": {
      "image/svg+xml": [
       "<svg xmlns=\"http://www.w3.org/2000/svg\" xmlns:xlink=\"http://www.w3.org/1999/xlink\" width=\"100.0\" height=\"100.0\" viewBox=\"0.72 1.72 4.5600000000000005 7.56\" preserveAspectRatio=\"xMinYMin meet\"><g transform=\"matrix(1,0,0,-1,0,11.0)\"><path fill-rule=\"evenodd\" fill=\"#66cc99\" stroke=\"#555555\" stroke-width=\"0.1512\" opacity=\"0.6\" d=\"M 1.0,2.0 L 5.0,3.0 L 5.0,7.0 L 1.0,9.0 L 1.0,2.0 z\" /></g></svg>"
      ],
      "text/plain": [
       "<shapely.geometry.polygon.Polygon at 0x7fbdd969c5b0>"
      ]
     },
     "execution_count": 1,
     "metadata": {},
     "output_type": "execute_result"
    }
   ],
   "source": [
    "# Example 1 – create geometries with Shapely\n",
    "### Shapely로 지오메트리 생성\n",
    "\n",
    "from shapely.geometry import Polygon\n",
    "\n",
    "p1 = Polygon(((1, 2), (5, 3), (5, 7), (1, 9), (1, 2)))\n",
    "p2 = Polygon(((6,6), (7,6), (10,4), (11,8), (6,6)))\n",
    "p1 "
   ]
  },
  {
   "cell_type": "code",
   "execution_count": 2,
   "metadata": {},
   "outputs": [
    {
     "data": {
      "image/svg+xml": [
       "<svg xmlns=\"http://www.w3.org/2000/svg\" xmlns:xlink=\"http://www.w3.org/1999/xlink\" width=\"100.0\" height=\"100.0\" viewBox=\"5.8 3.8 5.3999999999999995 4.3999999999999995\" preserveAspectRatio=\"xMinYMin meet\"><g transform=\"matrix(1,0,0,-1,0,12.0)\"><path fill-rule=\"evenodd\" fill=\"#66cc99\" stroke=\"#555555\" stroke-width=\"0.10799999999999998\" opacity=\"0.6\" d=\"M 6.0,6.0 L 7.0,6.0 L 10.0,4.0 L 11.0,8.0 L 6.0,6.0 z\" /></g></svg>"
      ],
      "text/plain": [
       "<shapely.geometry.polygon.Polygon at 0x7fbdd969c610>"
      ]
     },
     "execution_count": 2,
     "metadata": {},
     "output_type": "execute_result"
    }
   ],
   "source": [
    "# A new command line is required for printing the second polygon:\n",
    "### \n",
    "p2"
   ]
  },
  {
   "cell_type": "code",
   "execution_count": 3,
   "metadata": {},
   "outputs": [
    {
     "data": {
      "image/svg+xml": [
       "<svg xmlns=\"http://www.w3.org/2000/svg\" xmlns:xlink=\"http://www.w3.org/1999/xlink\" width=\"100.0\" height=\"100.0\" viewBox=\"1.0 1.0 2.0 2.0\" preserveAspectRatio=\"xMinYMin meet\"><g transform=\"matrix(1,0,0,-1,0,4.0)\"><circle cx=\"2.0\" cy=\"2.0\" r=\"0.06\" stroke=\"#555555\" stroke-width=\"0.02\" fill=\"#66cc99\" opacity=\"0.6\" /></g></svg>"
      ],
      "text/plain": [
       "<shapely.geometry.point.Point at 0x7fbdd969c130>"
      ]
     },
     "execution_count": 3,
     "metadata": {},
     "output_type": "execute_result"
    }
   ],
   "source": [
    "# Point takes tuples as well as positional coordinate values\n",
    "### 위치좌표\n",
    "from shapely.geometry import Point\n",
    "point = Point(2.0, 2.0)\n",
    "q = Point((2.0, 2.0))\n",
    "q"
   ]
  },
  {
   "cell_type": "code",
   "execution_count": 4,
   "metadata": {},
   "outputs": [
    {
     "data": {
      "image/svg+xml": [
       "<svg xmlns=\"http://www.w3.org/2000/svg\" xmlns:xlink=\"http://www.w3.org/1999/xlink\" width=\"100.0\" height=\"100.0\" viewBox=\"-0.4 -0.4 10.8 10.8\" preserveAspectRatio=\"xMinYMin meet\"><g transform=\"matrix(1,0,0,-1,0,10.0)\"><polyline fill=\"none\" stroke=\"#66cc99\" stroke-width=\"0.21600000000000003\" points=\"0.0,0.0 10.0,10.0\" opacity=\"0.8\" /></g></svg>"
      ],
      "text/plain": [
       "<shapely.geometry.linestring.LineString at 0x7fbdd966bc10>"
      ]
     },
     "execution_count": 4,
     "metadata": {},
     "output_type": "execute_result"
    }
   ],
   "source": [
    "# line geometry\n",
    "### 선\n",
    "from shapely.geometry import LineString\n",
    "line = LineString([(0, 0), (10,10)])\n",
    "line"
   ]
  },
  {
   "cell_type": "code",
   "execution_count": 5,
   "metadata": {},
   "outputs": [
    {
     "data": {
      "image/svg+xml": [
       "<svg xmlns=\"http://www.w3.org/2000/svg\" xmlns:xlink=\"http://www.w3.org/1999/xlink\" width=\"100.0\" height=\"100.0\" viewBox=\"-0.12 -0.12 3.24 3.24\" preserveAspectRatio=\"xMinYMin meet\"><g transform=\"matrix(1,0,0,-1,0,3.0)\"><polyline fill=\"none\" stroke=\"#66cc99\" stroke-width=\"0.06480000000000001\" points=\"0.0,0.0 3.0,3.0 3.0,0.0 0.0,0.0\" opacity=\"0.8\" /></g></svg>"
      ],
      "text/plain": [
       "<shapely.geometry.polygon.LinearRing at 0x7fbdd9c21bb0>"
      ]
     },
     "execution_count": 5,
     "metadata": {},
     "output_type": "execute_result"
    }
   ],
   "source": [
    "# linear rings\n",
    "### 선형 rings\n",
    "from shapely.geometry.polygon import LinearRing\n",
    "ring = LinearRing([(0,0), (3,3), (3,0)])\n",
    "ring"
   ]
  },
  {
   "cell_type": "code",
   "execution_count": 6,
   "metadata": {},
   "outputs": [
    {
     "data": {
      "image/svg+xml": [
       "<svg xmlns=\"http://www.w3.org/2000/svg\" xmlns:xlink=\"http://www.w3.org/1999/xlink\" width=\"100.0\" height=\"100.0\" viewBox=\"-0.12 -0.12 3.24 3.24\" preserveAspectRatio=\"xMinYMin meet\"><g transform=\"matrix(1,0,0,-1,0,3.0)\"><g><circle cx=\"0.0\" cy=\"0.0\" r=\"0.09720000000000001\" stroke=\"#555555\" stroke-width=\"0.032400000000000005\" fill=\"#66cc99\" opacity=\"0.6\" /><circle cx=\"3.0\" cy=\"3.0\" r=\"0.09720000000000001\" stroke=\"#555555\" stroke-width=\"0.032400000000000005\" fill=\"#66cc99\" opacity=\"0.6\" /></g></g></svg>"
      ],
      "text/plain": [
       "<shapely.geometry.multipoint.MultiPoint at 0x7fbdd969c370>"
      ]
     },
     "execution_count": 6,
     "metadata": {},
     "output_type": "execute_result"
    }
   ],
   "source": [
    "# collection of points\n",
    "### 여러 점\n",
    "from shapely.geometry import MultiPoint\n",
    "points = MultiPoint([(0.0, 0.0), (3.0, 3.0)])\n",
    "points"
   ]
  },
  {
   "cell_type": "code",
   "execution_count": 7,
   "metadata": {},
   "outputs": [
    {
     "data": {
      "text/plain": [
       "[((0, 0), (1, 1)), ((-1, 0), (1, 0))]"
      ]
     },
     "execution_count": 7,
     "metadata": {},
     "output_type": "execute_result"
    }
   ],
   "source": [
    "# collection of lines\n",
    "### 여러 선\n",
    "from shapely.geometry import MultiLineString\n",
    "coords = [((0, 0), (1, 1)), ((-1, 0), (1, 0))]\n",
    "coords"
   ]
  },
  {
   "cell_type": "code",
   "execution_count": 8,
   "metadata": {},
   "outputs": [
    {
     "data": {
      "image/svg+xml": [
       "<svg xmlns=\"http://www.w3.org/2000/svg\" xmlns:xlink=\"http://www.w3.org/1999/xlink\" width=\"100.0\" height=\"100.0\" viewBox=\"0.6 1.6 10.8 7.800000000000001\" preserveAspectRatio=\"xMinYMin meet\"><g transform=\"matrix(1,0,0,-1,0,11.0)\"><g><path fill-rule=\"evenodd\" fill=\"#66cc99\" stroke=\"#555555\" stroke-width=\"0.21600000000000003\" opacity=\"0.6\" d=\"M 1.0,2.0 L 5.0,3.0 L 5.0,7.0 L 1.0,9.0 L 1.0,2.0 z\" /><path fill-rule=\"evenodd\" fill=\"#66cc99\" stroke=\"#555555\" stroke-width=\"0.21600000000000003\" opacity=\"0.6\" d=\"M 6.0,6.0 L 7.0,6.0 L 10.0,4.0 L 11.0,8.0 L 6.0,6.0 z\" /></g></g></svg>"
      ],
      "text/plain": [
       "<shapely.geometry.multipolygon.MultiPolygon at 0x7fbdd966bdf0>"
      ]
     },
     "execution_count": 8,
     "metadata": {},
     "output_type": "execute_result"
    }
   ],
   "source": [
    "# collection of polygons\n",
    "### 여러 도형\n",
    "from shapely.geometry import MultiPolygon\n",
    "polygons = MultiPolygon([p1, p2,])\n",
    "polygons"
   ]
  },
  {
   "cell_type": "code",
   "execution_count": 9,
   "metadata": {},
   "outputs": [
    {
     "name": "stdout",
     "output_type": "stream",
     "text": [
      "22.0\n",
      "(1.0, 2.0, 5.0, 9.0)\n",
      "19.59524158061724\n",
      "Polygon\n"
     ]
    }
   ],
   "source": [
    "#Example 2 – apply geometrical methods with Shapely\n",
    "### Shapely 지오메트리 메서드 사용\n",
    "print(p1.area) ### 면적\n",
    "print(p1.bounds) ### 꼭지점\n",
    "print(p1.length) ### 둘레\n",
    "print(p1.geom_type) ### 형태"
   ]
  },
  {
   "cell_type": "code",
   "execution_count": 10,
   "metadata": {},
   "outputs": [
    {
     "name": "stdout",
     "output_type": "stream",
     "text": [
      "{\"type\": \"Polygon\", \"coordinates\": [[[1.0, 1.0], [1.0, 3.0], [3.0, 3.0], [1.0, 1.0]]]}\n"
     ]
    },
    {
     "data": {
      "text/plain": [
       "2.0"
      ]
     },
     "execution_count": 10,
     "metadata": {},
     "output_type": "execute_result"
    }
   ],
   "source": [
    "#Example 3 – reading JSON geometries with v\n",
    "### Shapely로 JSON 읽기\n",
    "import json\n",
    "from shapely.geometry import mapping, shape\n",
    "p = shape(json.loads('{\"type\": \"Polygon\", \"coordinates\": [[[1,1], [1,3 ], [3,3]]]}'))\n",
    "print(json.dumps(mapping(p)))\n",
    "p.area"
   ]
  },
  {
   "cell_type": "code",
   "execution_count": 11,
   "metadata": {},
   "outputs": [
    {
     "data": {
      "text/plain": [
       "dict_keys(['type', 'id', 'properties', 'geometry'])"
      ]
     },
     "execution_count": 11,
     "metadata": {},
     "output_type": "execute_result"
    }
   ],
   "source": [
    "# Example 4 – reading data with Fiona\n",
    "### Fiona 데이터 읽기\n",
    "\n",
    "import fiona\n",
    "c = fiona.open(r\"/Users/choyeon/Documents/SIA/study/data/NE/110m_cultural/ne_110m_admin_1_states_provinces.shp\")\n",
    "rec = next(iter(c))\n",
    "rec.keys()"
   ]
  },
  {
   "cell_type": "code",
   "execution_count": 16,
   "metadata": {
    "collapsed": true
   },
   "outputs": [
    {
     "name": "stdout",
     "output_type": "stream",
     "text": [
      "'Feature'\n",
      "'0'\n",
      "OrderedDict([('featurecla', 'Admin-1 scale rank'),\n",
      "             ('scalerank', 2),\n",
      "             ('adm1_code', 'USA-3514'),\n",
      "             ('diss_me', 3514),\n",
      "             ('iso_3166_2', 'US-MN'),\n",
      "             ('wikipedia', 'http://en.wikipedia.org/wiki/Minnesota'),\n",
      "             ('iso_a2', 'US'),\n",
      "             ('adm0_sr', 1),\n",
      "             ('name', 'Minnesota'),\n",
      "             ('name_alt', 'MN|Minn.'),\n",
      "             ('name_local', None),\n",
      "             ('type', 'State'),\n",
      "             ('type_en', 'State'),\n",
      "             ('code_local', 'US27'),\n",
      "             ('code_hasc', 'US.MN'),\n",
      "             ('note', None),\n",
      "             ('hasc_maybe', None),\n",
      "             ('region', 'Midwest'),\n",
      "             ('region_cod', None),\n",
      "             ('provnum_ne', 0),\n",
      "             ('gadm_level', 1),\n",
      "             ('check_me', 20),\n",
      "             ('datarank', 1),\n",
      "             ('abbrev', 'Minn.'),\n",
      "             ('postal', 'MN'),\n",
      "             ('area_sqkm', 0),\n",
      "             ('sameascity', -99),\n",
      "             ('labelrank', 0),\n",
      "             ('name_len', 9),\n",
      "             ('mapcolor9', 1),\n",
      "             ('mapcolor13', 1),\n",
      "             ('fips', 'US27'),\n",
      "             ('fips_alt', None),\n",
      "             ('woe_id', 2347582),\n",
      "             ('woe_label', 'Minnesota, US, United States'),\n",
      "             ('woe_name', 'Minnesota'),\n",
      "             ('latitude', 46.0592),\n",
      "             ('longitude', -93.364),\n",
      "             ('sov_a3', 'US1'),\n",
      "             ('adm0_a3', 'USA'),\n",
      "             ('adm0_label', 2),\n",
      "             ('admin', 'United States of America'),\n",
      "             ('geonunit', 'United States of America'),\n",
      "             ('gu_a3', 'USA'),\n",
      "             ('gn_id', 5037779),\n",
      "             ('gn_name', 'Minnesota'),\n",
      "             ('gns_id', -1),\n",
      "             ('gns_name', None),\n",
      "             ('gn_level', 1),\n",
      "             ('gn_region', None),\n",
      "             ('gn_a1_code', 'US.MN'),\n",
      "             ('region_sub', 'West North Central'),\n",
      "             ('sub_code', None),\n",
      "             ('gns_level', -1),\n",
      "             ('gns_lang', None),\n",
      "             ('gns_adm1', None),\n",
      "             ('gns_region', None),\n",
      "             ('min_label', 3.5),\n",
      "             ('max_label', 7.5),\n",
      "             ('min_zoom', 2),\n",
      "             ('wikidataid', 'Q1527'),\n",
      "             ('name_ar', 'مينيسوتا'),\n",
      "             ('name_bn', 'মিনেসোটা'),\n",
      "             ('name_de', 'Minnesota'),\n",
      "             ('name_en', 'Minnesota'),\n",
      "             ('name_es', 'Minnesota'),\n",
      "             ('name_fr', 'Minnesota'),\n",
      "             ('name_el', 'Μινεσότα'),\n",
      "             ('name_hi', 'मिनेसोटा'),\n",
      "             ('name_hu', 'Minnesota'),\n",
      "             ('name_id', 'Minnesota'),\n",
      "             ('name_it', 'Minnesota'),\n",
      "             ('name_ja', 'ミネソタ州'),\n",
      "             ('name_ko', '미네소타 주'),\n",
      "             ('name_nl', 'Minnesota'),\n",
      "             ('name_pl', 'Minnesota'),\n",
      "             ('name_pt', 'Minnesota'),\n",
      "             ('name_ru', 'Миннесота'),\n",
      "             ('name_sv', 'Minnesota'),\n",
      "             ('name_tr', 'Minnesota'),\n",
      "             ('name_vi', 'Minnesota'),\n",
      "             ('name_zh', '明尼蘇達州'),\n",
      "             ('ne_id', 1159315297)])\n",
      "{'coordinates': [[(-89.95765601272012, 47.286907253603175),\n",
      "                  (-90.13175391311144, 47.29274669045216),\n",
      "                  (-90.30585181350276, 47.29801768654593),\n",
      "                  (-90.47994971389409, 47.30385712339489),\n",
      "                  (-90.6540476142854, 47.309128119488676),\n",
      "                  (-90.85778194859611, 47.21282908791278),\n",
      "                  (-91.06097368036777, 47.117046820659795),\n",
      "                  (-91.26470801467849, 47.02126455340681),\n",
      "                  (-91.46844234898919, 46.9249655218309),\n",
      "                  (-91.59225908076053, 46.876260484395914),\n",
      "                  (-91.71661841507091, 46.82760712339301),\n",
      "                  (-91.8409777493813, 46.778385321635),\n",
      "                  (-91.96479448115262, 46.72970612241605),\n",
      "                  (-92.01189754918667, 46.71172272397848),\n",
      "                  (-92.27487891312, 46.65614472104858),\n",
      "                  (-92.26482784703924, 46.09522288673644),\n",
      "                  (-92.2965830146826, 46.09628225359842),\n",
      "                  (-92.54369971390233, 45.98569468849381),\n",
      "                  (-92.75696834997089, 45.88991242124082),\n",
      "                  (-92.89982784704182, 45.705763454768714),\n",
      "                  (-92.68922054723626, 45.51843638771068),\n",
      "                  (-92.76541744665064, 45.26708222104298),\n",
      "                  (-92.76647681351261, 44.9961426865367),\n",
      "                  (-92.79665584997105, 44.77602692318949),\n",
      "                  (-92.50507158076417, 44.58391978614445),\n",
      "                  (-92.38549231644078, 44.57492808692567),\n",
      "                  (-92.06215287959051, 44.43258535417769),\n",
      "                  (-91.949989183301, 44.364837551443046),\n",
      "                  (-91.87960588251947, 44.25742808692439),\n",
      "                  (-91.62770911331273, 44.085448920257036),\n",
      "                  (-91.28959021682704, 43.93729258887629),\n",
      "                  (-91.25729244664458, 43.854739488289965),\n",
      "                  (-91.2546569485977, 43.61397899024206),\n",
      "                  (-91.22819861526426, 43.5012468531974),\n",
      "                  (-92.54000484899348, 43.51977285417405),\n",
      "                  (-94.00102678096546, 43.51341665300214),\n",
      "                  (-95.35993608272871, 43.50018748633542),\n",
      "                  (-96.4526600817565, 43.50178945573647),\n",
      "                  (-96.43943091508982, 44.43576345476367),\n",
      "                  (-96.56061214881424, 45.39301768653837),\n",
      "                  (-96.73576941606754, 45.47081655535372),\n",
      "                  (-96.83470394569034, 45.62532908790642),\n",
      "                  (-96.78072791216147, 45.76079885515958),\n",
      "                  (-96.55689144568922, 45.87244578712617),\n",
      "                  (-96.53945064979075, 46.017966620460186),\n",
      "                  (-96.53890804725165, 46.199480088885366),\n",
      "                  (-96.60135901567638, 46.3513571233911),\n",
      "                  (-96.68548824744755, 46.51328522397769),\n",
      "                  (-96.73365068234358, 46.71647695574927),\n",
      "                  (-96.7458204821483, 46.9445250514533),\n",
      "                  (-96.77969438351563, 46.999043687521294),\n",
      "                  (-96.82041541216165, 47.29220408791309),\n",
      "                  (-96.82465287960957, 47.42661448830425),\n",
      "                  (-96.84423824744819, 47.54619375262766),\n",
      "                  (-96.89397681352912, 47.74886872007637),\n",
      "                  (-97.01515804725355, 47.954205023788134),\n",
      "                  (-97.13104244666809, 48.13729462339825),\n",
      "                  (-97.14850908078273, 48.31878225360731),\n",
      "                  (-97.16122148312654, 48.51458425556122),\n",
      "                  (-97.12734758175921, 48.64212169045756),\n",
      "                  (-97.1204746162644, 48.75852285419501),\n",
      "                  (-97.21413814979343, 48.90244171812793),\n",
      "                  (-97.22894344764504, 49.00088532164389),\n",
      "                  (-95.15883724646483, 48.9998259547819),\n",
      "                  (-95.15620174841791, 49.38401439065592),\n",
      "                  (-94.81754024939323, 49.38928538674975),\n",
      "                  (-94.64026424841592, 48.84001658791925),\n",
      "                  (-94.32912044958647, 48.670672919298795),\n",
      "                  (-93.63061011429733, 48.60928131773602),\n",
      "                  (-92.60984554723586, 48.45001455341253),\n",
      "                  (-91.63987891311746, 48.13993012144516),\n",
      "                  (-90.83026424840062, 48.27010305438836),\n",
      "                  (-89.59995174839577, 48.01027395282483),\n",
      "                  (-89.59940914585667, 48.01027395282483),\n",
      "                  (-89.4900319346622, 48.01340602289096),\n",
      "                  (-89.52269548211933, 47.96053538674391),\n",
      "                  (-89.61369767938538, 47.81925202085796),\n",
      "                  (-89.72800594761503, 47.641976019880644),\n",
      "                  (-89.84283098016755, 47.464725857119504),\n",
      "                  (-89.95765601272012, 47.286907253603175)]],\n",
      " 'type': 'Polygon'}\n"
     ]
    }
   ],
   "source": [
    "import pprint\n",
    "pprint.pprint(rec['type'])\n",
    "pprint.pprint(rec['id'])\n",
    "pprint.pprint(rec['properties'])\n",
    "pprint.pprint(rec['geometry'])"
   ]
  },
  {
   "cell_type": "code",
   "execution_count": 17,
   "metadata": {},
   "outputs": [
    {
     "name": "stdout",
     "output_type": "stream",
     "text": [
      "51\n",
      "ESRI Shapefile\n",
      "{'init': 'epsg:4326'}\n"
     ]
    }
   ],
   "source": [
    "print(len(c))        # prints total amount of features     \n",
    "print(c.driver)      # prints driver name\n",
    "print(c.crs)         # prints coordinate reference system of data file"
   ]
  },
  {
   "cell_type": "code",
   "execution_count": 21,
   "metadata": {
    "collapsed": true
   },
   "outputs": [
    {
     "name": "stdout",
     "output_type": "stream",
     "text": [
      "{'geometry': {'coordinates': [[(-89.95765601272012, 47.286907253603175),\n",
      "                               (-90.13175391311144, 47.29274669045216),\n",
      "                               (-90.30585181350276, 47.29801768654593),\n",
      "                               (-90.47994971389409, 47.30385712339489),\n",
      "                               (-90.6540476142854, 47.309128119488676),\n",
      "                               (-90.85778194859611, 47.21282908791278),\n",
      "                               (-91.06097368036777, 47.117046820659795),\n",
      "                               (-91.26470801467849, 47.02126455340681),\n",
      "                               (-91.46844234898919, 46.9249655218309),\n",
      "                               (-91.59225908076053, 46.876260484395914),\n",
      "                               (-91.71661841507091, 46.82760712339301),\n",
      "                               (-91.8409777493813, 46.778385321635),\n",
      "                               (-91.96479448115262, 46.72970612241605),\n",
      "                               (-92.01189754918667, 46.71172272397848),\n",
      "                               (-92.27487891312, 46.65614472104858),\n",
      "                               (-92.26482784703924, 46.09522288673644),\n",
      "                               (-92.2965830146826, 46.09628225359842),\n",
      "                               (-92.54369971390233, 45.98569468849381),\n",
      "                               (-92.75696834997089, 45.88991242124082),\n",
      "                               (-92.89982784704182, 45.705763454768714),\n",
      "                               (-92.68922054723626, 45.51843638771068),\n",
      "                               (-92.76541744665064, 45.26708222104298),\n",
      "                               (-92.76647681351261, 44.9961426865367),\n",
      "                               (-92.79665584997105, 44.77602692318949),\n",
      "                               (-92.50507158076417, 44.58391978614445),\n",
      "                               (-92.38549231644078, 44.57492808692567),\n",
      "                               (-92.06215287959051, 44.43258535417769),\n",
      "                               (-91.949989183301, 44.364837551443046),\n",
      "                               (-91.87960588251947, 44.25742808692439),\n",
      "                               (-91.62770911331273, 44.085448920257036),\n",
      "                               (-91.28959021682704, 43.93729258887629),\n",
      "                               (-91.25729244664458, 43.854739488289965),\n",
      "                               (-91.2546569485977, 43.61397899024206),\n",
      "                               (-91.22819861526426, 43.5012468531974),\n",
      "                               (-92.54000484899348, 43.51977285417405),\n",
      "                               (-94.00102678096546, 43.51341665300214),\n",
      "                               (-95.35993608272871, 43.50018748633542),\n",
      "                               (-96.4526600817565, 43.50178945573647),\n",
      "                               (-96.43943091508982, 44.43576345476367),\n",
      "                               (-96.56061214881424, 45.39301768653837),\n",
      "                               (-96.73576941606754, 45.47081655535372),\n",
      "                               (-96.83470394569034, 45.62532908790642),\n",
      "                               (-96.78072791216147, 45.76079885515958),\n",
      "                               (-96.55689144568922, 45.87244578712617),\n",
      "                               (-96.53945064979075, 46.017966620460186),\n",
      "                               (-96.53890804725165, 46.199480088885366),\n",
      "                               (-96.60135901567638, 46.3513571233911),\n",
      "                               (-96.68548824744755, 46.51328522397769),\n",
      "                               (-96.73365068234358, 46.71647695574927),\n",
      "                               (-96.7458204821483, 46.9445250514533),\n",
      "                               (-96.77969438351563, 46.999043687521294),\n",
      "                               (-96.82041541216165, 47.29220408791309),\n",
      "                               (-96.82465287960957, 47.42661448830425),\n",
      "                               (-96.84423824744819, 47.54619375262766),\n",
      "                               (-96.89397681352912, 47.74886872007637),\n",
      "                               (-97.01515804725355, 47.954205023788134),\n",
      "                               (-97.13104244666809, 48.13729462339825),\n",
      "                               (-97.14850908078273, 48.31878225360731),\n",
      "                               (-97.16122148312654, 48.51458425556122),\n",
      "                               (-97.12734758175921, 48.64212169045756),\n",
      "                               (-97.1204746162644, 48.75852285419501),\n",
      "                               (-97.21413814979343, 48.90244171812793),\n",
      "                               (-97.22894344764504, 49.00088532164389),\n",
      "                               (-95.15883724646483, 48.9998259547819),\n",
      "                               (-95.15620174841791, 49.38401439065592),\n",
      "                               (-94.81754024939323, 49.38928538674975),\n",
      "                               (-94.64026424841592, 48.84001658791925),\n",
      "                               (-94.32912044958647, 48.670672919298795),\n",
      "                               (-93.63061011429733, 48.60928131773602),\n",
      "                               (-92.60984554723586, 48.45001455341253),\n",
      "                               (-91.63987891311746, 48.13993012144516),\n",
      "                               (-90.83026424840062, 48.27010305438836),\n",
      "                               (-89.59995174839577, 48.01027395282483),\n",
      "                               (-89.59940914585667, 48.01027395282483),\n",
      "                               (-89.4900319346622, 48.01340602289096),\n",
      "                               (-89.52269548211933, 47.96053538674391),\n",
      "                               (-89.61369767938538, 47.81925202085796),\n",
      "                               (-89.72800594761503, 47.641976019880644),\n",
      "                               (-89.84283098016755, 47.464725857119504),\n",
      "                               (-89.95765601272012, 47.286907253603175)]],\n",
      "              'type': 'Polygon'},\n",
      " 'id': '0',\n",
      " 'properties': OrderedDict([('featurecla', 'Admin-1 scale rank'),\n",
      "                            ('scalerank', 2),\n",
      "                            ('adm1_code', 'USA-3514'),\n",
      "                            ('diss_me', 3514),\n",
      "                            ('iso_3166_2', 'US-MN'),\n",
      "                            ('wikipedia',\n",
      "                             'http://en.wikipedia.org/wiki/Minnesota'),\n",
      "                            ('iso_a2', 'US'),\n",
      "                            ('adm0_sr', 1),\n",
      "                            ('name', 'Minnesota'),\n",
      "                            ('name_alt', 'MN|Minn.'),\n",
      "                            ('name_local', None),\n",
      "                            ('type', 'State'),\n",
      "                            ('type_en', 'State'),\n",
      "                            ('code_local', 'US27'),\n",
      "                            ('code_hasc', 'US.MN'),\n",
      "                            ('note', None),\n",
      "                            ('hasc_maybe', None),\n",
      "                            ('region', 'Midwest'),\n",
      "                            ('region_cod', None),\n",
      "                            ('provnum_ne', 0),\n",
      "                            ('gadm_level', 1),\n",
      "                            ('check_me', 20),\n",
      "                            ('datarank', 1),\n",
      "                            ('abbrev', 'Minn.'),\n",
      "                            ('postal', 'MN'),\n",
      "                            ('area_sqkm', 0),\n",
      "                            ('sameascity', -99),\n",
      "                            ('labelrank', 0),\n",
      "                            ('name_len', 9),\n",
      "                            ('mapcolor9', 1),\n",
      "                            ('mapcolor13', 1),\n",
      "                            ('fips', 'US27'),\n",
      "                            ('fips_alt', None),\n",
      "                            ('woe_id', 2347582),\n",
      "                            ('woe_label', 'Minnesota, US, United States'),\n",
      "                            ('woe_name', 'Minnesota'),\n",
      "                            ('latitude', 46.0592),\n",
      "                            ('longitude', -93.364),\n",
      "                            ('sov_a3', 'US1'),\n",
      "                            ('adm0_a3', 'USA'),\n",
      "                            ('adm0_label', 2),\n",
      "                            ('admin', 'United States of America'),\n",
      "                            ('geonunit', 'United States of America'),\n",
      "                            ('gu_a3', 'USA'),\n",
      "                            ('gn_id', 5037779),\n",
      "                            ('gn_name', 'Minnesota'),\n",
      "                            ('gns_id', -1),\n",
      "                            ('gns_name', None),\n",
      "                            ('gn_level', 1),\n",
      "                            ('gn_region', None),\n",
      "                            ('gn_a1_code', 'US.MN'),\n",
      "                            ('region_sub', 'West North Central'),\n",
      "                            ('sub_code', None),\n",
      "                            ('gns_level', -1),\n",
      "                            ('gns_lang', None),\n",
      "                            ('gns_adm1', None),\n",
      "                            ('gns_region', None),\n",
      "                            ('min_label', 3.5),\n",
      "                            ('max_label', 7.5),\n",
      "                            ('min_zoom', 2),\n",
      "                            ('wikidataid', 'Q1527'),\n",
      "                            ('name_ar', 'مينيسوتا'),\n",
      "                            ('name_bn', 'মিনেসোটা'),\n",
      "                            ('name_de', 'Minnesota'),\n",
      "                            ('name_en', 'Minnesota'),\n",
      "                            ('name_es', 'Minnesota'),\n",
      "                            ('name_fr', 'Minnesota'),\n",
      "                            ('name_el', 'Μινεσότα'),\n",
      "                            ('name_hi', 'मिनेसोटा'),\n",
      "                            ('name_hu', 'Minnesota'),\n",
      "                            ('name_id', 'Minnesota'),\n",
      "                            ('name_it', 'Minnesota'),\n",
      "                            ('name_ja', 'ミネソタ州'),\n",
      "                            ('name_ko', '미네소타 주'),\n",
      "                            ('name_nl', 'Minnesota'),\n",
      "                            ('name_pl', 'Minnesota'),\n",
      "                            ('name_pt', 'Minnesota'),\n",
      "                            ('name_ru', 'Миннесота'),\n",
      "                            ('name_sv', 'Minnesota'),\n",
      "                            ('name_tr', 'Minnesota'),\n",
      "                            ('name_vi', 'Minnesota'),\n",
      "                            ('name_zh', '明尼蘇達州'),\n",
      "                            ('ne_id', 1159315297)]),\n",
      " 'type': 'Feature'}\n"
     ]
    }
   ],
   "source": [
    "#Example 5 – accessing vector geometry in shapefiles using Shapely and Fiona\n",
    "\n",
    "import pprint, fiona\n",
    "\n",
    "with fiona.open(r\"/Users/choyeon/Documents/SIA/study/data/NE/110m_cultural/ne_110m_admin_1_states_provinces.shp\") as src:\n",
    "    pprint.pprint(src[0])"
   ]
  },
  {
   "cell_type": "code",
   "execution_count": 22,
   "metadata": {},
   "outputs": [],
   "source": [
    "from shapely.geometry import shape\n",
    "minnesota = {'type': 'Polygon', 'coordinates': [[(-89.61369767938538, 47.81925202085796), (-89.72800594761503, 47.641976019880644), (-89.84283098016755, 47.464725857119504), (-89.95765601272012, 47.286907253603175), (-90.13175391311144, 47.29274669045216), (-90.30585181350276, 47.29801768654593), (-90.47994971389409, 47.30385712339489), (-90.6540476142854, 47.309128119488676), (-90.85778194859611, 47.21282908791278), (-91.06097368036777, 47.117046820659795), (-91.26470801467849, 47.02126455340681), (-91.46844234898919, 46.9249655218309), (-91.59225908076053, 46.876260484395914), (-91.71661841507091, 46.82760712339301), (-91.8409777493813, 46.778385321635), (-91.96479448115262, 46.72970612241605), (-92.01189754918667, 46.71172272397848), (-92.27487891312, 46.65614472104858), (-92.26482784703924, 46.09522288673644), (-92.2965830146826, 46.09628225359842), (-92.54369971390233, 45.98569468849381), (-92.75696834997089, 45.88991242124082), (-92.89982784704182, 45.705763454768714), (-92.68922054723626, 45.51843638771068), (-92.76541744665064, 45.26708222104298), (-92.76647681351261, 44.9961426865367), (-92.79665584997105, 44.77602692318949), (-92.50507158076417, 44.58391978614445), (-92.38549231644078, 44.57492808692567), (-92.06215287959051, 44.43258535417769), (-91.949989183301, 44.364837551443046), (-91.87960588251947, 44.25742808692439), (-91.62770911331273, 44.085448920257036), (-91.28959021682704, 43.93729258887629), (-91.25729244664458, 43.854739488289965), (-91.2546569485977, 43.61397899024206), (-91.22819861526426, 43.5012468531974), (-92.54000484899348, 43.51977285417405), (-94.00102678096546, 43.51341665300214), (-95.35993608272871, 43.50018748633542), (-96.4526600817565, 43.50178945573647), (-96.43943091508982, 44.43576345476367), (-96.56061214881424, 45.39301768653837), (-96.73576941606754, 45.47081655535372), (-96.83470394569034, 45.62532908790642), (-96.78072791216147, 45.76079885515958), (-96.55689144568922, 45.87244578712617), (-96.53945064979075, 46.017966620460186), (-96.53890804725165, 46.199480088885366), (-96.60135901567638, 46.3513571233911), (-96.68548824744755, 46.51328522397769), (-96.73365068234358, 46.71647695574927), (-96.7458204821483, 46.9445250514533), (-96.77969438351563, 46.999043687521294), (-96.82041541216165, 47.29220408791309), (-96.82465287960957, 47.42661448830425), (-96.84423824744819, 47.54619375262766), (-96.89397681352912, 47.74886872007637), (-97.01515804725355, 47.954205023788134), (-97.13104244666809, 48.13729462339825), (-97.14850908078273, 48.31878225360731), (-97.16122148312654, 48.51458425556122), (-97.12734758175921, 48.64212169045756), (-97.1204746162644, 48.75852285419501), (-97.21413814979343, 48.90244171812793), (-97.22894344764504, 49.00088532164389), (-95.15883724646483, 48.9998259547819), (-95.15620174841791, 49.38401439065592), (-94.81754024939323, 49.38928538674975), (-94.64026424841592, 48.84001658791925), (-94.32912044958647, 48.670672919298795), (-93.63061011429733, 48.60928131773602), (-92.60984554723586, 48.45001455341253), (-91.63987891311746, 48.13993012144516), (-90.83026424840062, 48.27010305438836), (-89.59995174839577, 48.01027395282483), (-89.59940914585667, 48.01027395282483), (-89.4900319346622, 48.01340602289096), (-89.52269548211933, 47.96053538674391), (-89.61369767938538, 47.81925202085796)]]}"
   ]
  },
  {
   "cell_type": "code",
   "execution_count": 23,
   "metadata": {},
   "outputs": [
    {
     "data": {
      "image/svg+xml": [
       "<svg xmlns=\"http://www.w3.org/2000/svg\" xmlns:xlink=\"http://www.w3.org/1999/xlink\" width=\"100.0\" height=\"100.0\" viewBox=\"-97.53849990816435 43.19063102581611 8.358024434021473 6.508210821452948\" preserveAspectRatio=\"xMinYMin meet\"><g transform=\"matrix(1,0,0,-1,0,92.88947287308517)\"><path fill-rule=\"evenodd\" fill=\"#66cc99\" stroke=\"#555555\" stroke-width=\"0.16716048868042946\" opacity=\"0.6\" d=\"M -89.61369767938538,47.81925202085796 L -89.72800594761503,47.641976019880644 L -89.84283098016755,47.464725857119504 L -89.95765601272012,47.286907253603175 L -90.13175391311144,47.29274669045216 L -90.30585181350276,47.29801768654593 L -90.47994971389409,47.30385712339489 L -90.6540476142854,47.309128119488676 L -90.85778194859611,47.21282908791278 L -91.06097368036777,47.117046820659795 L -91.26470801467849,47.02126455340681 L -91.46844234898919,46.9249655218309 L -91.59225908076053,46.876260484395914 L -91.71661841507091,46.82760712339301 L -91.8409777493813,46.778385321635 L -91.96479448115262,46.72970612241605 L -92.01189754918667,46.71172272397848 L -92.27487891312,46.65614472104858 L -92.26482784703924,46.09522288673644 L -92.2965830146826,46.09628225359842 L -92.54369971390233,45.98569468849381 L -92.75696834997089,45.88991242124082 L -92.89982784704182,45.705763454768714 L -92.68922054723626,45.51843638771068 L -92.76541744665064,45.26708222104298 L -92.76647681351261,44.9961426865367 L -92.79665584997105,44.77602692318949 L -92.50507158076417,44.58391978614445 L -92.38549231644078,44.57492808692567 L -92.06215287959051,44.43258535417769 L -91.949989183301,44.364837551443046 L -91.87960588251947,44.25742808692439 L -91.62770911331273,44.085448920257036 L -91.28959021682704,43.93729258887629 L -91.25729244664458,43.854739488289965 L -91.2546569485977,43.61397899024206 L -91.22819861526426,43.5012468531974 L -92.54000484899348,43.51977285417405 L -94.00102678096546,43.51341665300214 L -95.35993608272871,43.50018748633542 L -96.4526600817565,43.50178945573647 L -96.43943091508982,44.43576345476367 L -96.56061214881424,45.39301768653837 L -96.73576941606754,45.47081655535372 L -96.83470394569034,45.62532908790642 L -96.78072791216147,45.76079885515958 L -96.55689144568922,45.87244578712617 L -96.53945064979075,46.017966620460186 L -96.53890804725165,46.199480088885366 L -96.60135901567638,46.3513571233911 L -96.68548824744755,46.51328522397769 L -96.73365068234358,46.71647695574927 L -96.7458204821483,46.9445250514533 L -96.77969438351563,46.999043687521294 L -96.82041541216165,47.29220408791309 L -96.82465287960957,47.42661448830425 L -96.84423824744819,47.54619375262766 L -96.89397681352912,47.74886872007637 L -97.01515804725355,47.954205023788134 L -97.13104244666809,48.13729462339825 L -97.14850908078273,48.31878225360731 L -97.16122148312654,48.51458425556122 L -97.12734758175921,48.64212169045756 L -97.1204746162644,48.75852285419501 L -97.21413814979343,48.90244171812793 L -97.22894344764504,49.00088532164389 L -95.15883724646483,48.9998259547819 L -95.15620174841791,49.38401439065592 L -94.81754024939323,49.38928538674975 L -94.64026424841592,48.84001658791925 L -94.32912044958647,48.670672919298795 L -93.63061011429733,48.60928131773602 L -92.60984554723586,48.45001455341253 L -91.63987891311746,48.13993012144516 L -90.83026424840062,48.27010305438836 L -89.59995174839577,48.01027395282483 L -89.59940914585667,48.01027395282483 L -89.4900319346622,48.01340602289096 L -89.52269548211933,47.96053538674391 L -89.61369767938538,47.81925202085796 z\" /></g></svg>"
      ],
      "text/plain": [
       "<shapely.geometry.polygon.Polygon at 0x7ff7b2512a90>"
      ]
     },
     "execution_count": 23,
     "metadata": {},
     "output_type": "execute_result"
    }
   ],
   "source": [
    "geom = shape(minnesota)\n",
    "geom"
   ]
  },
  {
   "cell_type": "markdown",
   "metadata": {},
   "source": [
    "<h1>GeoPandas</h1>"
   ]
  },
  {
   "cell_type": "code",
   "execution_count": 8,
   "metadata": {},
   "outputs": [
    {
     "data": {
      "text/html": [
       "<div>\n",
       "<style scoped>\n",
       "    .dataframe tbody tr th:only-of-type {\n",
       "        vertical-align: middle;\n",
       "    }\n",
       "\n",
       "    .dataframe tbody tr th {\n",
       "        vertical-align: top;\n",
       "    }\n",
       "\n",
       "    .dataframe thead th {\n",
       "        text-align: right;\n",
       "    }\n",
       "</style>\n",
       "<table border=\"1\" class=\"dataframe\">\n",
       "  <thead>\n",
       "    <tr style=\"text-align: right;\">\n",
       "      <th></th>\n",
       "      <th>featurecla</th>\n",
       "      <th>scalerank</th>\n",
       "      <th>adm1_code</th>\n",
       "      <th>diss_me</th>\n",
       "      <th>iso_3166_2</th>\n",
       "      <th>wikipedia</th>\n",
       "      <th>iso_a2</th>\n",
       "      <th>adm0_sr</th>\n",
       "      <th>name</th>\n",
       "      <th>name_alt</th>\n",
       "      <th>...</th>\n",
       "      <th>name_nl</th>\n",
       "      <th>name_pl</th>\n",
       "      <th>name_pt</th>\n",
       "      <th>name_ru</th>\n",
       "      <th>name_sv</th>\n",
       "      <th>name_tr</th>\n",
       "      <th>name_vi</th>\n",
       "      <th>name_zh</th>\n",
       "      <th>ne_id</th>\n",
       "      <th>geometry</th>\n",
       "    </tr>\n",
       "  </thead>\n",
       "  <tbody>\n",
       "    <tr>\n",
       "      <th>0</th>\n",
       "      <td>Admin-1 scale rank</td>\n",
       "      <td>2</td>\n",
       "      <td>USA-3514</td>\n",
       "      <td>3514</td>\n",
       "      <td>US-MN</td>\n",
       "      <td>http://en.wikipedia.org/wiki/Minnesota</td>\n",
       "      <td>US</td>\n",
       "      <td>1</td>\n",
       "      <td>Minnesota</td>\n",
       "      <td>MN|Minn.</td>\n",
       "      <td>...</td>\n",
       "      <td>Minnesota</td>\n",
       "      <td>Minnesota</td>\n",
       "      <td>Minnesota</td>\n",
       "      <td>Миннесота</td>\n",
       "      <td>Minnesota</td>\n",
       "      <td>Minnesota</td>\n",
       "      <td>Minnesota</td>\n",
       "      <td>明尼蘇達州</td>\n",
       "      <td>1159315297</td>\n",
       "      <td>POLYGON ((-89.95766 47.28691, -90.13175 47.292...</td>\n",
       "    </tr>\n",
       "    <tr>\n",
       "      <th>1</th>\n",
       "      <td>Admin-1 scale rank</td>\n",
       "      <td>2</td>\n",
       "      <td>USA-3515</td>\n",
       "      <td>3515</td>\n",
       "      <td>US-MT</td>\n",
       "      <td>http://en.wikipedia.org/wiki/Montana</td>\n",
       "      <td>US</td>\n",
       "      <td>1</td>\n",
       "      <td>Montana</td>\n",
       "      <td>MT|Mont.</td>\n",
       "      <td>...</td>\n",
       "      <td>Montana</td>\n",
       "      <td>Montana</td>\n",
       "      <td>Montana</td>\n",
       "      <td>Монтана</td>\n",
       "      <td>Montana</td>\n",
       "      <td>Montana</td>\n",
       "      <td>Montana</td>\n",
       "      <td>蒙大拿州</td>\n",
       "      <td>1159315333</td>\n",
       "      <td>POLYGON ((-116.04823 49.00037, -113.05950 49.0...</td>\n",
       "    </tr>\n",
       "    <tr>\n",
       "      <th>2</th>\n",
       "      <td>Admin-1 scale rank</td>\n",
       "      <td>2</td>\n",
       "      <td>USA-3516</td>\n",
       "      <td>3516</td>\n",
       "      <td>US-ND</td>\n",
       "      <td>http://en.wikipedia.org/wiki/North_Dakota</td>\n",
       "      <td>US</td>\n",
       "      <td>1</td>\n",
       "      <td>North Dakota</td>\n",
       "      <td>ND|N.D.</td>\n",
       "      <td>...</td>\n",
       "      <td>North Dakota</td>\n",
       "      <td>Dakota Północna</td>\n",
       "      <td>Dakota do Norte</td>\n",
       "      <td>Северная Дакота</td>\n",
       "      <td>North Dakota</td>\n",
       "      <td>Kuzey Dakota</td>\n",
       "      <td>Bắc Dakota</td>\n",
       "      <td>北达科他州</td>\n",
       "      <td>1159315337</td>\n",
       "      <td>POLYGON ((-97.22894 49.00089, -97.21414 48.902...</td>\n",
       "    </tr>\n",
       "  </tbody>\n",
       "</table>\n",
       "<p>3 rows × 84 columns</p>\n",
       "</div>"
      ],
      "text/plain": [
       "           featurecla  scalerank adm1_code  diss_me iso_3166_2  \\\n",
       "0  Admin-1 scale rank          2  USA-3514     3514      US-MN   \n",
       "1  Admin-1 scale rank          2  USA-3515     3515      US-MT   \n",
       "2  Admin-1 scale rank          2  USA-3516     3516      US-ND   \n",
       "\n",
       "                                   wikipedia iso_a2  adm0_sr          name  \\\n",
       "0     http://en.wikipedia.org/wiki/Minnesota     US        1     Minnesota   \n",
       "1       http://en.wikipedia.org/wiki/Montana     US        1       Montana   \n",
       "2  http://en.wikipedia.org/wiki/North_Dakota     US        1  North Dakota   \n",
       "\n",
       "   name_alt  ...       name_nl          name_pl          name_pt  \\\n",
       "0  MN|Minn.  ...     Minnesota        Minnesota        Minnesota   \n",
       "1  MT|Mont.  ...       Montana          Montana          Montana   \n",
       "2   ND|N.D.  ...  North Dakota  Dakota Północna  Dakota do Norte   \n",
       "\n",
       "           name_ru       name_sv       name_tr     name_vi name_zh  \\\n",
       "0        Миннесота     Minnesota     Minnesota   Minnesota   明尼蘇達州   \n",
       "1          Монтана       Montana       Montana     Montana    蒙大拿州   \n",
       "2  Северная Дакота  North Dakota  Kuzey Dakota  Bắc Dakota   北达科他州   \n",
       "\n",
       "        ne_id                                           geometry  \n",
       "0  1159315297  POLYGON ((-89.95766 47.28691, -90.13175 47.292...  \n",
       "1  1159315333  POLYGON ((-116.04823 49.00037, -113.05950 49.0...  \n",
       "2  1159315337  POLYGON ((-97.22894 49.00089, -97.21414 48.902...  \n",
       "\n",
       "[3 rows x 84 columns]"
      ]
     },
     "execution_count": 8,
     "metadata": {},
     "output_type": "execute_result"
    }
   ],
   "source": [
    "# Example 1 – selecting and plotting geometry data with GeoPandas and Matplotlib\n",
    "### GeoPandas와 Matplotlib으로 지오메트리 데이터 플로팅하기\n",
    "# import module\n",
    "import geopandas as gpd\n",
    "# magic command to use matplotlib plots inside Jupyter Notebook app\n",
    "%matplotlib inline\n",
    "# create a GeoDataFrame from shapefile and display it\n",
    "df = gpd.read_file(r\"/Users/choyeon/Documents/SIA/study/data/NE/110m_cultural/ne_110m_admin_1_states_provinces.shp\")\n",
    "df.head(3)"
   ]
  },
  {
   "cell_type": "code",
   "execution_count": 9,
   "metadata": {},
   "outputs": [
    {
     "data": {
      "text/plain": [
       "geopandas.geodataframe.GeoDataFrame"
      ]
     },
     "execution_count": 9,
     "metadata": {},
     "output_type": "execute_result"
    }
   ],
   "source": [
    "# return object type\n",
    "type(df)"
   ]
  },
  {
   "cell_type": "code",
   "execution_count": 10,
   "metadata": {},
   "outputs": [
    {
     "data": {
      "text/plain": [
       "(51, 84)"
      ]
     },
     "execution_count": 10,
     "metadata": {},
     "output_type": "execute_result"
    }
   ],
   "source": [
    "# shape prints rows and columns\n",
    "df.shape"
   ]
  },
  {
   "cell_type": "code",
   "execution_count": 11,
   "metadata": {},
   "outputs": [
    {
     "data": {
      "text/plain": [
       "Index(['featurecla', 'scalerank', 'adm1_code', 'diss_me', 'iso_3166_2',\n",
       "       'wikipedia', 'iso_a2', 'adm0_sr', 'name', 'name_alt', 'name_local',\n",
       "       'type', 'type_en', 'code_local', 'code_hasc', 'note', 'hasc_maybe',\n",
       "       'region', 'region_cod', 'provnum_ne', 'gadm_level', 'check_me',\n",
       "       'datarank', 'abbrev', 'postal', 'area_sqkm', 'sameascity', 'labelrank',\n",
       "       'name_len', 'mapcolor9', 'mapcolor13', 'fips', 'fips_alt', 'woe_id',\n",
       "       'woe_label', 'woe_name', 'latitude', 'longitude', 'sov_a3', 'adm0_a3',\n",
       "       'adm0_label', 'admin', 'geonunit', 'gu_a3', 'gn_id', 'gn_name',\n",
       "       'gns_id', 'gns_name', 'gn_level', 'gn_region', 'gn_a1_code',\n",
       "       'region_sub', 'sub_code', 'gns_level', 'gns_lang', 'gns_adm1',\n",
       "       'gns_region', 'min_label', 'max_label', 'min_zoom', 'wikidataid',\n",
       "       'name_ar', 'name_bn', 'name_de', 'name_en', 'name_es', 'name_fr',\n",
       "       'name_el', 'name_hi', 'name_hu', 'name_id', 'name_it', 'name_ja',\n",
       "       'name_ko', 'name_nl', 'name_pl', 'name_pt', 'name_ru', 'name_sv',\n",
       "       'name_tr', 'name_vi', 'name_zh', 'ne_id', 'geometry'],\n",
       "      dtype='object')"
      ]
     },
     "execution_count": 11,
     "metadata": {},
     "output_type": "execute_result"
    }
   ],
   "source": [
    "# columns returns column names as a list item\n",
    "df.columns"
   ]
  },
  {
   "cell_type": "code",
   "execution_count": 12,
   "metadata": {},
   "outputs": [
    {
     "data": {
      "text/plain": [
       "featurecla                                   Admin-1 scale rank\n",
       "scalerank                                                     2\n",
       "adm1_code                                              USA-3514\n",
       "diss_me                                                    3514\n",
       "iso_3166_2                                                US-MN\n",
       "                                    ...                        \n",
       "name_tr                                               Minnesota\n",
       "name_vi                                               Minnesota\n",
       "name_zh                                                   明尼蘇達州\n",
       "ne_id                                                1159315297\n",
       "geometry      POLYGON ((-89.95765601272012 47.28690725360318...\n",
       "Name: 0, Length: 84, dtype: object"
      ]
     },
     "execution_count": 12,
     "metadata": {},
     "output_type": "execute_result"
    }
   ],
   "source": [
    "# subset data using pandas' dataframe .loc method\n",
    "df.loc[0]"
   ]
  },
  {
   "cell_type": "code",
   "execution_count": 13,
   "metadata": {},
   "outputs": [
    {
     "data": {
      "text/plain": [
       "0       Minnesota\n",
       "1         Montana\n",
       "2    North Dakota\n",
       "3          Hawaii\n",
       "4           Idaho\n",
       "Name: name, dtype: object"
      ]
     },
     "execution_count": 13,
     "metadata": {},
     "output_type": "execute_result"
    }
   ],
   "source": [
    "# print a list of all state names\n",
    "df['name'].head()"
   ]
  },
  {
   "cell_type": "code",
   "execution_count": 14,
   "metadata": {},
   "outputs": [
    {
     "data": {
      "text/html": [
       "<div>\n",
       "<style scoped>\n",
       "    .dataframe tbody tr th:only-of-type {\n",
       "        vertical-align: middle;\n",
       "    }\n",
       "\n",
       "    .dataframe tbody tr th {\n",
       "        vertical-align: top;\n",
       "    }\n",
       "\n",
       "    .dataframe thead th {\n",
       "        text-align: right;\n",
       "    }\n",
       "</style>\n",
       "<table border=\"1\" class=\"dataframe\">\n",
       "  <thead>\n",
       "    <tr style=\"text-align: right;\">\n",
       "      <th></th>\n",
       "      <th>featurecla</th>\n",
       "      <th>scalerank</th>\n",
       "      <th>adm1_code</th>\n",
       "      <th>diss_me</th>\n",
       "      <th>iso_3166_2</th>\n",
       "      <th>wikipedia</th>\n",
       "      <th>iso_a2</th>\n",
       "      <th>adm0_sr</th>\n",
       "      <th>name</th>\n",
       "      <th>name_alt</th>\n",
       "      <th>...</th>\n",
       "      <th>name_nl</th>\n",
       "      <th>name_pl</th>\n",
       "      <th>name_pt</th>\n",
       "      <th>name_ru</th>\n",
       "      <th>name_sv</th>\n",
       "      <th>name_tr</th>\n",
       "      <th>name_vi</th>\n",
       "      <th>name_zh</th>\n",
       "      <th>ne_id</th>\n",
       "      <th>geometry</th>\n",
       "    </tr>\n",
       "  </thead>\n",
       "  <tbody>\n",
       "    <tr>\n",
       "      <th>7</th>\n",
       "      <td>Admin-1 scale rank</td>\n",
       "      <td>2</td>\n",
       "      <td>USA-3521</td>\n",
       "      <td>3521</td>\n",
       "      <td>US-CA</td>\n",
       "      <td>http://en.wikipedia.org/wiki/California</td>\n",
       "      <td>US</td>\n",
       "      <td>8</td>\n",
       "      <td>California</td>\n",
       "      <td>CA|Calif.</td>\n",
       "      <td>...</td>\n",
       "      <td>Californië</td>\n",
       "      <td>Kalifornia</td>\n",
       "      <td>Califórnia</td>\n",
       "      <td>Калифорния</td>\n",
       "      <td>Kalifornien</td>\n",
       "      <td>Kaliforniya</td>\n",
       "      <td>California</td>\n",
       "      <td>加利福尼亚州</td>\n",
       "      <td>1159308415</td>\n",
       "      <td>POLYGON ((-114.64222 35.05311, -114.62212 34.9...</td>\n",
       "    </tr>\n",
       "  </tbody>\n",
       "</table>\n",
       "<p>1 rows × 84 columns</p>\n",
       "</div>"
      ],
      "text/plain": [
       "           featurecla  scalerank adm1_code  diss_me iso_3166_2  \\\n",
       "7  Admin-1 scale rank          2  USA-3521     3521      US-CA   \n",
       "\n",
       "                                 wikipedia iso_a2  adm0_sr        name  \\\n",
       "7  http://en.wikipedia.org/wiki/California     US        8  California   \n",
       "\n",
       "    name_alt  ...     name_nl     name_pl     name_pt     name_ru  \\\n",
       "7  CA|Calif.  ...  Californië  Kalifornia  Califórnia  Калифорния   \n",
       "\n",
       "       name_sv      name_tr     name_vi name_zh       ne_id  \\\n",
       "7  Kalifornien  Kaliforniya  California  加利福尼亚州  1159308415   \n",
       "\n",
       "                                            geometry  \n",
       "7  POLYGON ((-114.64222 35.05311, -114.62212 34.9...  \n",
       "\n",
       "[1 rows x 84 columns]"
      ]
     },
     "execution_count": 14,
     "metadata": {},
     "output_type": "execute_result"
    }
   ],
   "source": [
    "# reference a separate row and print all columns and attribute data\n",
    "california = df.loc[df['name'] == \"California\"]\n",
    "california"
   ]
  },
  {
   "cell_type": "code",
   "execution_count": 15,
   "metadata": {},
   "outputs": [
    {
     "data": {
      "text/plain": [
       "<AxesSubplot:>"
      ]
     },
     "execution_count": 15,
     "metadata": {},
     "output_type": "execute_result"
    },
    {
     "data": {
      "image/png": "[encoded data removed]",
      "text/plain": [
       "<Figure size 504x504 with 1 Axes>"
      ]
     },
     "metadata": {
      "needs_background": "light"
     },
     "output_type": "display_data"
    }
   ],
   "source": [
    "# plot state geometry\n",
    "california.plot(figsize=(7,7))"
   ]
  },
  {
   "cell_type": "code",
   "execution_count": 16,
   "metadata": {},
   "outputs": [
    {
     "data": {
      "text/plain": [
       "<AxesSubplot:>"
      ]
     },
     "execution_count": 16,
     "metadata": {},
     "output_type": "execute_result"
    },
    {
     "data": {
      "image/png": "[encoded data removed]",
      "text/plain": [
       "<Figure size 504x504 with 1 Axes>"
      ]
     },
     "metadata": {
      "needs_background": "light"
     },
     "output_type": "display_data"
    }
   ],
   "source": [
    "# subset and plot multiple items using .iloc method\n",
    "### 워싱턴, 캘리포니아, 네바다, 오리선\n",
    "### 행 번호로 추출\n",
    "multipl = df.iloc[[5,7,9,11]]\n",
    "multipl.plot(cmap=\"Set1\", figsize=(7,7))"
   ]
  },
  {
   "cell_type": "code",
   "execution_count": 17,
   "metadata": {},
   "outputs": [
    {
     "data": {
      "text/plain": [
       "<AxesSubplot:>"
      ]
     },
     "execution_count": 17,
     "metadata": {},
     "output_type": "execute_result"
    },
    {
     "data": {
      "image/png": "[encoded data removed]",
      "text/plain": [
       "<Figure size 504x504 with 1 Axes>"
      ]
     },
     "metadata": {
      "needs_background": "light"
     },
     "output_type": "display_data"
    }
   ],
   "source": [
    "# subset items using .cx method and a bounding box and plot them\n",
    "### 경계상자: xmin:xmax, ymin:ymax\n",
    "exp = df.cx[-124:-118,30:50]\n",
    "exp.plot(cmap=\"Set1\", figsize=(7,7))"
   ]
  },
  {
   "cell_type": "code",
   "execution_count": 18,
   "metadata": {},
   "outputs": [],
   "source": [
    "# Example 2 – mapping wildfire data with GeoPandas\n",
    "# import module\n",
    "import geopandas"
   ]
  },
  {
   "cell_type": "code",
   "execution_count": 19,
   "metadata": {},
   "outputs": [],
   "source": [
    "# import shapefile with state geometries\n",
    "states = geopandas.read_file(r\"/Users/choyeon/Documents/SIA/study/data/NE/110m_cultural/ne_110m_admin_1_states_provinces.shp\")"
   ]
  },
  {
   "cell_type": "code",
   "execution_count": 20,
   "metadata": {},
   "outputs": [
    {
     "data": {
      "text/html": [
       "<div>\n",
       "<style scoped>\n",
       "    .dataframe tbody tr th:only-of-type {\n",
       "        vertical-align: middle;\n",
       "    }\n",
       "\n",
       "    .dataframe tbody tr th {\n",
       "        vertical-align: top;\n",
       "    }\n",
       "\n",
       "    .dataframe thead th {\n",
       "        text-align: right;\n",
       "    }\n",
       "</style>\n",
       "<table border=\"1\" class=\"dataframe\">\n",
       "  <thead>\n",
       "    <tr style=\"text-align: right;\">\n",
       "      <th></th>\n",
       "      <th>featurecla</th>\n",
       "      <th>scalerank</th>\n",
       "      <th>adm1_code</th>\n",
       "      <th>diss_me</th>\n",
       "      <th>iso_3166_2</th>\n",
       "      <th>wikipedia</th>\n",
       "      <th>iso_a2</th>\n",
       "      <th>adm0_sr</th>\n",
       "      <th>name</th>\n",
       "      <th>name_alt</th>\n",
       "      <th>...</th>\n",
       "      <th>name_nl</th>\n",
       "      <th>name_pl</th>\n",
       "      <th>name_pt</th>\n",
       "      <th>name_ru</th>\n",
       "      <th>name_sv</th>\n",
       "      <th>name_tr</th>\n",
       "      <th>name_vi</th>\n",
       "      <th>name_zh</th>\n",
       "      <th>ne_id</th>\n",
       "      <th>geometry</th>\n",
       "    </tr>\n",
       "  </thead>\n",
       "  <tbody>\n",
       "    <tr>\n",
       "      <th>0</th>\n",
       "      <td>Admin-1 scale rank</td>\n",
       "      <td>2</td>\n",
       "      <td>USA-3514</td>\n",
       "      <td>3514</td>\n",
       "      <td>US-MN</td>\n",
       "      <td>http://en.wikipedia.org/wiki/Minnesota</td>\n",
       "      <td>US</td>\n",
       "      <td>1</td>\n",
       "      <td>Minnesota</td>\n",
       "      <td>MN|Minn.</td>\n",
       "      <td>...</td>\n",
       "      <td>Minnesota</td>\n",
       "      <td>Minnesota</td>\n",
       "      <td>Minnesota</td>\n",
       "      <td>Миннесота</td>\n",
       "      <td>Minnesota</td>\n",
       "      <td>Minnesota</td>\n",
       "      <td>Minnesota</td>\n",
       "      <td>明尼蘇達州</td>\n",
       "      <td>1159315297</td>\n",
       "      <td>POLYGON ((-89.95766 47.28691, -90.13175 47.292...</td>\n",
       "    </tr>\n",
       "    <tr>\n",
       "      <th>1</th>\n",
       "      <td>Admin-1 scale rank</td>\n",
       "      <td>2</td>\n",
       "      <td>USA-3515</td>\n",
       "      <td>3515</td>\n",
       "      <td>US-MT</td>\n",
       "      <td>http://en.wikipedia.org/wiki/Montana</td>\n",
       "      <td>US</td>\n",
       "      <td>1</td>\n",
       "      <td>Montana</td>\n",
       "      <td>MT|Mont.</td>\n",
       "      <td>...</td>\n",
       "      <td>Montana</td>\n",
       "      <td>Montana</td>\n",
       "      <td>Montana</td>\n",
       "      <td>Монтана</td>\n",
       "      <td>Montana</td>\n",
       "      <td>Montana</td>\n",
       "      <td>Montana</td>\n",
       "      <td>蒙大拿州</td>\n",
       "      <td>1159315333</td>\n",
       "      <td>POLYGON ((-116.04823 49.00037, -113.05950 49.0...</td>\n",
       "    </tr>\n",
       "    <tr>\n",
       "      <th>2</th>\n",
       "      <td>Admin-1 scale rank</td>\n",
       "      <td>2</td>\n",
       "      <td>USA-3516</td>\n",
       "      <td>3516</td>\n",
       "      <td>US-ND</td>\n",
       "      <td>http://en.wikipedia.org/wiki/North_Dakota</td>\n",
       "      <td>US</td>\n",
       "      <td>1</td>\n",
       "      <td>North Dakota</td>\n",
       "      <td>ND|N.D.</td>\n",
       "      <td>...</td>\n",
       "      <td>North Dakota</td>\n",
       "      <td>Dakota Północna</td>\n",
       "      <td>Dakota do Norte</td>\n",
       "      <td>Северная Дакота</td>\n",
       "      <td>North Dakota</td>\n",
       "      <td>Kuzey Dakota</td>\n",
       "      <td>Bắc Dakota</td>\n",
       "      <td>北达科他州</td>\n",
       "      <td>1159315337</td>\n",
       "      <td>POLYGON ((-97.22894 49.00089, -97.21414 48.902...</td>\n",
       "    </tr>\n",
       "  </tbody>\n",
       "</table>\n",
       "<p>3 rows × 84 columns</p>\n",
       "</div>"
      ],
      "text/plain": [
       "           featurecla  scalerank adm1_code  diss_me iso_3166_2  \\\n",
       "0  Admin-1 scale rank          2  USA-3514     3514      US-MN   \n",
       "1  Admin-1 scale rank          2  USA-3515     3515      US-MT   \n",
       "2  Admin-1 scale rank          2  USA-3516     3516      US-ND   \n",
       "\n",
       "                                   wikipedia iso_a2  adm0_sr          name  \\\n",
       "0     http://en.wikipedia.org/wiki/Minnesota     US        1     Minnesota   \n",
       "1       http://en.wikipedia.org/wiki/Montana     US        1       Montana   \n",
       "2  http://en.wikipedia.org/wiki/North_Dakota     US        1  North Dakota   \n",
       "\n",
       "   name_alt  ...       name_nl          name_pl          name_pt  \\\n",
       "0  MN|Minn.  ...     Minnesota        Minnesota        Minnesota   \n",
       "1  MT|Mont.  ...       Montana          Montana          Montana   \n",
       "2   ND|N.D.  ...  North Dakota  Dakota Północna  Dakota do Norte   \n",
       "\n",
       "           name_ru       name_sv       name_tr     name_vi name_zh  \\\n",
       "0        Миннесота     Minnesota     Minnesota   Minnesota   明尼蘇達州   \n",
       "1          Монтана       Montana       Montana     Montana    蒙大拿州   \n",
       "2  Северная Дакота  North Dakota  Kuzey Dakota  Bắc Dakota   北达科他州   \n",
       "\n",
       "        ne_id                                           geometry  \n",
       "0  1159315297  POLYGON ((-89.95766 47.28691, -90.13175 47.292...  \n",
       "1  1159315333  POLYGON ((-116.04823 49.00037, -113.05950 49.0...  \n",
       "2  1159315337  POLYGON ((-97.22894 49.00089, -97.21414 48.902...  \n",
       "\n",
       "[3 rows x 84 columns]"
      ]
     },
     "execution_count": 20,
     "metadata": {},
     "output_type": "execute_result"
    }
   ],
   "source": [
    "# display attribute table\n",
    "states.head(3)"
   ]
  },
  {
   "cell_type": "code",
   "execution_count": 21,
   "metadata": {},
   "outputs": [
    {
     "data": {
      "text/plain": [
       "<AxesSubplot:>"
      ]
     },
     "execution_count": 21,
     "metadata": {},
     "output_type": "execute_result"
    },
    {
     "data": {
      "image/png": "[encoded data removed]",
      "text/plain": [
       "<Figure size 720x720 with 1 Axes>"
      ]
     },
     "metadata": {
      "needs_background": "light"
     },
     "output_type": "display_data"
    }
   ],
   "source": [
    "# magic command for using matplotlib, next plot state geometries\n",
    "%matplotlib inline\n",
    "states.plot(figsize=(10,10))"
   ]
  },
  {
   "cell_type": "code",
   "execution_count": 22,
   "metadata": {},
   "outputs": [
    {
     "data": {
      "text/html": [
       "<div>\n",
       "<style scoped>\n",
       "    .dataframe tbody tr th:only-of-type {\n",
       "        vertical-align: middle;\n",
       "    }\n",
       "\n",
       "    .dataframe tbody tr th {\n",
       "        vertical-align: top;\n",
       "    }\n",
       "\n",
       "    .dataframe thead th {\n",
       "        text-align: right;\n",
       "    }\n",
       "</style>\n",
       "<table border=\"1\" class=\"dataframe\">\n",
       "  <thead>\n",
       "    <tr style=\"text-align: right;\">\n",
       "      <th></th>\n",
       "      <th>Event_ID</th>\n",
       "      <th>irwinID</th>\n",
       "      <th>Incid_Name</th>\n",
       "      <th>Incid_Type</th>\n",
       "      <th>Map_ID</th>\n",
       "      <th>Map_Prog</th>\n",
       "      <th>Asmnt_Type</th>\n",
       "      <th>BurnBndAc</th>\n",
       "      <th>BurnBndLat</th>\n",
       "      <th>BurnBndLon</th>\n",
       "      <th>...</th>\n",
       "      <th>dNBR_offst</th>\n",
       "      <th>dNBR_stdDv</th>\n",
       "      <th>NoData_T</th>\n",
       "      <th>IncGreen_T</th>\n",
       "      <th>Low_T</th>\n",
       "      <th>Mod_T</th>\n",
       "      <th>High_T</th>\n",
       "      <th>Comment</th>\n",
       "      <th>ORIG_FID</th>\n",
       "      <th>geometry</th>\n",
       "    </tr>\n",
       "  </thead>\n",
       "  <tbody>\n",
       "    <tr>\n",
       "      <th>0</th>\n",
       "      <td>UT4176411148820121004</td>\n",
       "      <td>None</td>\n",
       "      <td>HELLS HOLLOW</td>\n",
       "      <td>Prescribed Fire</td>\n",
       "      <td>414</td>\n",
       "      <td>MTBS</td>\n",
       "      <td>Extended</td>\n",
       "      <td>4758</td>\n",
       "      <td>41.766</td>\n",
       "      <td>-111.507</td>\n",
       "      <td>...</td>\n",
       "      <td>47</td>\n",
       "      <td>-9999</td>\n",
       "      <td>-970</td>\n",
       "      <td>-150</td>\n",
       "      <td>113</td>\n",
       "      <td>345</td>\n",
       "      <td>616</td>\n",
       "      <td>None</td>\n",
       "      <td>0</td>\n",
       "      <td>POINT (-111.50798 41.75847)</td>\n",
       "    </tr>\n",
       "    <tr>\n",
       "      <th>1</th>\n",
       "      <td>WA4796812059020120908</td>\n",
       "      <td>None</td>\n",
       "      <td>KLONE PEAK</td>\n",
       "      <td>Wildfire</td>\n",
       "      <td>441</td>\n",
       "      <td>MTBS</td>\n",
       "      <td>Extended</td>\n",
       "      <td>1634</td>\n",
       "      <td>47.972</td>\n",
       "      <td>-120.582</td>\n",
       "      <td>...</td>\n",
       "      <td>25</td>\n",
       "      <td>-9999</td>\n",
       "      <td>-970</td>\n",
       "      <td>-150</td>\n",
       "      <td>50</td>\n",
       "      <td>250</td>\n",
       "      <td>460</td>\n",
       "      <td>None</td>\n",
       "      <td>1</td>\n",
       "      <td>POINT (-120.58152 47.97210)</td>\n",
       "    </tr>\n",
       "    <tr>\n",
       "      <th>2</th>\n",
       "      <td>WA4797012073420120908</td>\n",
       "      <td>None</td>\n",
       "      <td>BASALT</td>\n",
       "      <td>Wildfire</td>\n",
       "      <td>444</td>\n",
       "      <td>MTBS</td>\n",
       "      <td>Extended</td>\n",
       "      <td>1705</td>\n",
       "      <td>47.967</td>\n",
       "      <td>-120.746</td>\n",
       "      <td>...</td>\n",
       "      <td>-4</td>\n",
       "      <td>-9999</td>\n",
       "      <td>-970</td>\n",
       "      <td>-150</td>\n",
       "      <td>60</td>\n",
       "      <td>250</td>\n",
       "      <td>500</td>\n",
       "      <td>None</td>\n",
       "      <td>2</td>\n",
       "      <td>POINT (-120.74488 47.96732)</td>\n",
       "    </tr>\n",
       "  </tbody>\n",
       "</table>\n",
       "<p>3 rows × 24 columns</p>\n",
       "</div>"
      ],
      "text/plain": [
       "                Event_ID irwinID    Incid_Name       Incid_Type  Map_ID  \\\n",
       "0  UT4176411148820121004    None  HELLS HOLLOW  Prescribed Fire     414   \n",
       "1  WA4796812059020120908    None    KLONE PEAK         Wildfire     441   \n",
       "2  WA4797012073420120908    None        BASALT         Wildfire     444   \n",
       "\n",
       "  Map_Prog Asmnt_Type  BurnBndAc BurnBndLat BurnBndLon  ... dNBR_offst  \\\n",
       "0     MTBS   Extended       4758     41.766   -111.507  ...         47   \n",
       "1     MTBS   Extended       1634     47.972   -120.582  ...         25   \n",
       "2     MTBS   Extended       1705     47.967   -120.746  ...         -4   \n",
       "\n",
       "  dNBR_stdDv NoData_T IncGreen_T  Low_T  Mod_T  High_T  Comment  ORIG_FID  \\\n",
       "0      -9999     -970       -150    113    345     616     None         0   \n",
       "1      -9999     -970       -150     50    250     460     None         1   \n",
       "2      -9999     -970       -150     60    250     500     None         2   \n",
       "\n",
       "                      geometry  \n",
       "0  POINT (-111.50798 41.75847)  \n",
       "1  POINT (-120.58152 47.97210)  \n",
       "2  POINT (-120.74488 47.96732)  \n",
       "\n",
       "[3 rows x 24 columns]"
      ]
     },
     "execution_count": 22,
     "metadata": {},
     "output_type": "execute_result"
    }
   ],
   "source": [
    "# reference and display attribute table of shapefile with wildire data\n",
    "fires = geopandas.read_file(r\"/Users/choyeon/Documents/SIA/study/data/mtbs_fod_pts_data/mtbs_FODpoints_DD.shp\") \n",
    "fires.head(3)"
   ]
  },
  {
   "cell_type": "code",
   "execution_count": 23,
   "metadata": {},
   "outputs": [
    {
     "data": {
      "text/plain": [
       "<AxesSubplot:>"
      ]
     },
     "execution_count": 23,
     "metadata": {},
     "output_type": "execute_result"
    },
    {
     "data": {
      "image/png": "[encoded data removed]",
      "text/plain": [
       "<Figure size 1224x1224 with 1 Axes>"
      ]
     },
     "metadata": {
      "needs_background": "light"
     },
     "output_type": "display_data"
    }
   ],
   "source": [
    "# plot all fires as point data on a map\n",
    "fires.plot(markersize=1, figsize=(17,17))"
   ]
  },
  {
   "cell_type": "code",
   "execution_count": 24,
   "metadata": {},
   "outputs": [
    {
     "data": {
      "text/plain": [
       "<Geographic 2D CRS: EPSG:4269>\n",
       "Name: NAD83\n",
       "Axis Info [ellipsoidal]:\n",
       "- Lat[north]: Geodetic latitude (degree)\n",
       "- Lon[east]: Geodetic longitude (degree)\n",
       "Area of Use:\n",
       "- name: North America - onshore and offshore: Canada - Alberta; British Columbia; Manitoba; New Brunswick; Newfoundland and Labrador; Northwest Territories; Nova Scotia; Nunavut; Ontario; Prince Edward Island; Quebec; Saskatchewan; Yukon. Puerto Rico. United States (USA) - Alabama; Alaska; Arizona; Arkansas; California; Colorado; Connecticut; Delaware; Florida; Georgia; Hawaii; Idaho; Illinois; Indiana; Iowa; Kansas; Kentucky; Louisiana; Maine; Maryland; Massachusetts; Michigan; Minnesota; Mississippi; Missouri; Montana; Nebraska; Nevada; New Hampshire; New Jersey; New Mexico; New York; North Carolina; North Dakota; Ohio; Oklahoma; Oregon; Pennsylvania; Rhode Island; South Carolina; South Dakota; Tennessee; Texas; Utah; Vermont; Virginia; Washington; West Virginia; Wisconsin; Wyoming. US Virgin Islands. British Virgin Islands.\n",
       "- bounds: (167.65071105957, 14.928194130078, -47.743430543984, 86.453745196084)\n",
       "Datum: North American Datum 1983\n",
       "- Ellipsoid: GRS 1980\n",
       "- Prime Meridian: Greenwich"
      ]
     },
     "execution_count": 24,
     "metadata": {},
     "output_type": "execute_result"
    }
   ],
   "source": [
    "# print coordinate reference system of firedata\n",
    "fires.crs"
   ]
  },
  {
   "cell_type": "code",
   "execution_count": 25,
   "metadata": {},
   "outputs": [
    {
     "data": {
      "text/plain": [
       "<Geographic 2D CRS: EPSG:4326>\n",
       "Name: WGS 84\n",
       "Axis Info [ellipsoidal]:\n",
       "- Lat[north]: Geodetic latitude (degree)\n",
       "- Lon[east]: Geodetic longitude (degree)\n",
       "Area of Use:\n",
       "- name: World.\n",
       "- bounds: (-180.0, -90.0, 180.0, 90.0)\n",
       "Datum: World Geodetic System 1984 ensemble\n",
       "- Ellipsoid: WGS 84\n",
       "- Prime Meridian: Greenwich"
      ]
     },
     "execution_count": 25,
     "metadata": {},
     "output_type": "execute_result"
    }
   ],
   "source": [
    "# print coordinate reference system of state geometry shapefile\n",
    "states.crs"
   ]
  },
  {
   "cell_type": "code",
   "execution_count": 26,
   "metadata": {},
   "outputs": [
    {
     "name": "stderr",
     "output_type": "stream",
     "text": [
      "/Users/choyeon/opt/anaconda3/lib/python3.8/site-packages/pyproj/crs/crs.py:68: FutureWarning: '+init=<authority>:<code>' syntax is deprecated. '<authority>:<code>' is the preferred initialization method. When making the change, be mindful of axis order changes: https://pyproj4.github.io/pyproj/stable/gotchas.html#axis-order-changes-in-proj-6\n",
      "  return _prepare_from_string(\" \".join(pjargs))\n"
     ]
    }
   ],
   "source": [
    "# reproject fires shapefile so it´s equal to the state geometry shapefile\n",
    "### 위경도 좌표계로 변환(재투영)\n",
    "fires = fires.to_crs({'init': 'epsg:4326'})"
   ]
  },
  {
   "cell_type": "code",
   "execution_count": 27,
   "metadata": {
    "scrolled": true
   },
   "outputs": [
    {
     "name": "stderr",
     "output_type": "stream",
     "text": [
      "<ipython-input-27-cb1ca7b12bc9>:2: UserWarning: CRS mismatch between the CRS of left geometries and the CRS of right geometries.\n",
      "Use `to_crs()` to reproject one of the input geometries to match the CRS of the other.\n",
      "\n",
      "Left CRS: +init=epsg:4326 +type=crs\n",
      "Right CRS: EPSG:4326\n",
      "\n",
      "  state_fires = geopandas.sjoin(fires, states[['name', 'geometry']].copy(), op='within')\n"
     ]
    },
    {
     "data": {
      "text/html": [
       "<div>\n",
       "<style scoped>\n",
       "    .dataframe tbody tr th:only-of-type {\n",
       "        vertical-align: middle;\n",
       "    }\n",
       "\n",
       "    .dataframe tbody tr th {\n",
       "        vertical-align: top;\n",
       "    }\n",
       "\n",
       "    .dataframe thead th {\n",
       "        text-align: right;\n",
       "    }\n",
       "</style>\n",
       "<table border=\"1\" class=\"dataframe\">\n",
       "  <thead>\n",
       "    <tr style=\"text-align: right;\">\n",
       "      <th></th>\n",
       "      <th>Event_ID</th>\n",
       "      <th>irwinID</th>\n",
       "      <th>Incid_Name</th>\n",
       "      <th>Incid_Type</th>\n",
       "      <th>Map_ID</th>\n",
       "      <th>Map_Prog</th>\n",
       "      <th>Asmnt_Type</th>\n",
       "      <th>BurnBndAc</th>\n",
       "      <th>BurnBndLat</th>\n",
       "      <th>BurnBndLon</th>\n",
       "      <th>...</th>\n",
       "      <th>NoData_T</th>\n",
       "      <th>IncGreen_T</th>\n",
       "      <th>Low_T</th>\n",
       "      <th>Mod_T</th>\n",
       "      <th>High_T</th>\n",
       "      <th>Comment</th>\n",
       "      <th>ORIG_FID</th>\n",
       "      <th>geometry</th>\n",
       "      <th>index_right</th>\n",
       "      <th>name</th>\n",
       "    </tr>\n",
       "  </thead>\n",
       "  <tbody>\n",
       "    <tr>\n",
       "      <th>0</th>\n",
       "      <td>UT4176411148820121004</td>\n",
       "      <td>None</td>\n",
       "      <td>HELLS HOLLOW</td>\n",
       "      <td>Prescribed Fire</td>\n",
       "      <td>414</td>\n",
       "      <td>MTBS</td>\n",
       "      <td>Extended</td>\n",
       "      <td>4758</td>\n",
       "      <td>41.766</td>\n",
       "      <td>-111.507</td>\n",
       "      <td>...</td>\n",
       "      <td>-970</td>\n",
       "      <td>-150</td>\n",
       "      <td>113</td>\n",
       "      <td>345</td>\n",
       "      <td>616</td>\n",
       "      <td>None</td>\n",
       "      <td>0</td>\n",
       "      <td>POINT (-111.50798 41.75847)</td>\n",
       "      <td>12</td>\n",
       "      <td>Utah</td>\n",
       "    </tr>\n",
       "    <tr>\n",
       "      <th>373</th>\n",
       "      <td>UT3986511069320120624</td>\n",
       "      <td>None</td>\n",
       "      <td>CHURCH CAMP</td>\n",
       "      <td>Wildfire</td>\n",
       "      <td>1395</td>\n",
       "      <td>MTBS</td>\n",
       "      <td>Extended</td>\n",
       "      <td>7016</td>\n",
       "      <td>39.897</td>\n",
       "      <td>-110.663</td>\n",
       "      <td>...</td>\n",
       "      <td>-970</td>\n",
       "      <td>-150</td>\n",
       "      <td>50</td>\n",
       "      <td>302</td>\n",
       "      <td>580</td>\n",
       "      <td>None</td>\n",
       "      <td>373</td>\n",
       "      <td>POINT (-110.66860 39.89244)</td>\n",
       "      <td>12</td>\n",
       "      <td>Utah</td>\n",
       "    </tr>\n",
       "    <tr>\n",
       "      <th>382</th>\n",
       "      <td>UT4054911295520120727</td>\n",
       "      <td>None</td>\n",
       "      <td>DALLAS CANYON</td>\n",
       "      <td>Wildfire</td>\n",
       "      <td>1412</td>\n",
       "      <td>MTBS</td>\n",
       "      <td>Initial</td>\n",
       "      <td>43386</td>\n",
       "      <td>40.633</td>\n",
       "      <td>-112.949</td>\n",
       "      <td>...</td>\n",
       "      <td>-970</td>\n",
       "      <td>-150</td>\n",
       "      <td>50</td>\n",
       "      <td>300</td>\n",
       "      <td>9999</td>\n",
       "      <td>None</td>\n",
       "      <td>382</td>\n",
       "      <td>POINT (-112.94539 40.62365)</td>\n",
       "      <td>12</td>\n",
       "      <td>Utah</td>\n",
       "    </tr>\n",
       "  </tbody>\n",
       "</table>\n",
       "<p>3 rows × 26 columns</p>\n",
       "</div>"
      ],
      "text/plain": [
       "                  Event_ID irwinID     Incid_Name       Incid_Type  Map_ID  \\\n",
       "0    UT4176411148820121004    None   HELLS HOLLOW  Prescribed Fire     414   \n",
       "373  UT3986511069320120624    None    CHURCH CAMP         Wildfire    1395   \n",
       "382  UT4054911295520120727    None  DALLAS CANYON         Wildfire    1412   \n",
       "\n",
       "    Map_Prog Asmnt_Type  BurnBndAc BurnBndLat BurnBndLon  ... NoData_T  \\\n",
       "0       MTBS   Extended       4758     41.766   -111.507  ...     -970   \n",
       "373     MTBS   Extended       7016     39.897   -110.663  ...     -970   \n",
       "382     MTBS    Initial      43386     40.633   -112.949  ...     -970   \n",
       "\n",
       "    IncGreen_T Low_T Mod_T  High_T  Comment  ORIG_FID  \\\n",
       "0         -150   113   345     616     None         0   \n",
       "373       -150    50   302     580     None       373   \n",
       "382       -150    50   300    9999     None       382   \n",
       "\n",
       "                        geometry  index_right  name  \n",
       "0    POINT (-111.50798 41.75847)           12  Utah  \n",
       "373  POINT (-110.66860 39.89244)           12  Utah  \n",
       "382  POINT (-112.94539 40.62365)           12  Utah  \n",
       "\n",
       "[3 rows x 26 columns]"
      ]
     },
     "execution_count": 27,
     "metadata": {},
     "output_type": "execute_result"
    }
   ],
   "source": [
    "# perform spatial join\n",
    "state_fires = geopandas.sjoin(fires, states[['name', 'geometry']].copy(), op='within')\n",
    "state_fires.head(3)"
   ]
  },
  {
   "cell_type": "code",
   "execution_count": 28,
   "metadata": {
    "scrolled": true
   },
   "outputs": [
    {
     "data": {
      "text/plain": [
       "name\n",
       "Florida       4836\n",
       "Kansas        1904\n",
       "California    1813\n",
       "dtype: int64"
      ]
     },
     "execution_count": 28,
     "metadata": {},
     "output_type": "execute_result"
    }
   ],
   "source": [
    "# create pandas dataframe object with states and fire count\n",
    "counts_per_state = state_fires.groupby('name').size()    \n",
    "# list highest values first \n",
    "### 이름을 기준으로 산불의 수 내림차순 정렬\n",
    "counts_per_state.sort_values(axis=0, ascending=False).head(3)"
   ]
  },
  {
   "cell_type": "code",
   "execution_count": 29,
   "metadata": {},
   "outputs": [
    {
     "data": {
      "text/html": [
       "<div>\n",
       "<style scoped>\n",
       "    .dataframe tbody tr th:only-of-type {\n",
       "        vertical-align: middle;\n",
       "    }\n",
       "\n",
       "    .dataframe tbody tr th {\n",
       "        vertical-align: top;\n",
       "    }\n",
       "\n",
       "    .dataframe thead th {\n",
       "        text-align: right;\n",
       "    }\n",
       "</style>\n",
       "<table border=\"1\" class=\"dataframe\">\n",
       "  <thead>\n",
       "    <tr style=\"text-align: right;\">\n",
       "      <th></th>\n",
       "      <th>featurecla</th>\n",
       "      <th>scalerank</th>\n",
       "      <th>adm1_code</th>\n",
       "      <th>diss_me</th>\n",
       "      <th>iso_3166_2</th>\n",
       "      <th>wikipedia</th>\n",
       "      <th>iso_a2</th>\n",
       "      <th>adm0_sr</th>\n",
       "      <th>name</th>\n",
       "      <th>name_alt</th>\n",
       "      <th>...</th>\n",
       "      <th>name_pl</th>\n",
       "      <th>name_pt</th>\n",
       "      <th>name_ru</th>\n",
       "      <th>name_sv</th>\n",
       "      <th>name_tr</th>\n",
       "      <th>name_vi</th>\n",
       "      <th>name_zh</th>\n",
       "      <th>ne_id</th>\n",
       "      <th>geometry</th>\n",
       "      <th>number_of_fires</th>\n",
       "    </tr>\n",
       "  </thead>\n",
       "  <tbody>\n",
       "    <tr>\n",
       "      <th>0</th>\n",
       "      <td>Admin-1 scale rank</td>\n",
       "      <td>2</td>\n",
       "      <td>USA-3514</td>\n",
       "      <td>3514</td>\n",
       "      <td>US-MN</td>\n",
       "      <td>http://en.wikipedia.org/wiki/Minnesota</td>\n",
       "      <td>US</td>\n",
       "      <td>1</td>\n",
       "      <td>Minnesota</td>\n",
       "      <td>MN|Minn.</td>\n",
       "      <td>...</td>\n",
       "      <td>Minnesota</td>\n",
       "      <td>Minnesota</td>\n",
       "      <td>Миннесота</td>\n",
       "      <td>Minnesota</td>\n",
       "      <td>Minnesota</td>\n",
       "      <td>Minnesota</td>\n",
       "      <td>明尼蘇達州</td>\n",
       "      <td>1159315297</td>\n",
       "      <td>POLYGON ((-89.95766 47.28691, -90.13175 47.292...</td>\n",
       "      <td>433</td>\n",
       "    </tr>\n",
       "    <tr>\n",
       "      <th>1</th>\n",
       "      <td>Admin-1 scale rank</td>\n",
       "      <td>2</td>\n",
       "      <td>USA-3515</td>\n",
       "      <td>3515</td>\n",
       "      <td>US-MT</td>\n",
       "      <td>http://en.wikipedia.org/wiki/Montana</td>\n",
       "      <td>US</td>\n",
       "      <td>1</td>\n",
       "      <td>Montana</td>\n",
       "      <td>MT|Mont.</td>\n",
       "      <td>...</td>\n",
       "      <td>Montana</td>\n",
       "      <td>Montana</td>\n",
       "      <td>Монтана</td>\n",
       "      <td>Montana</td>\n",
       "      <td>Montana</td>\n",
       "      <td>Montana</td>\n",
       "      <td>蒙大拿州</td>\n",
       "      <td>1159315333</td>\n",
       "      <td>POLYGON ((-116.04823 49.00037, -113.05950 49.0...</td>\n",
       "      <td>760</td>\n",
       "    </tr>\n",
       "    <tr>\n",
       "      <th>2</th>\n",
       "      <td>Admin-1 scale rank</td>\n",
       "      <td>2</td>\n",
       "      <td>USA-3516</td>\n",
       "      <td>3516</td>\n",
       "      <td>US-ND</td>\n",
       "      <td>http://en.wikipedia.org/wiki/North_Dakota</td>\n",
       "      <td>US</td>\n",
       "      <td>1</td>\n",
       "      <td>North Dakota</td>\n",
       "      <td>ND|N.D.</td>\n",
       "      <td>...</td>\n",
       "      <td>Dakota Północna</td>\n",
       "      <td>Dakota do Norte</td>\n",
       "      <td>Северная Дакота</td>\n",
       "      <td>North Dakota</td>\n",
       "      <td>Kuzey Dakota</td>\n",
       "      <td>Bắc Dakota</td>\n",
       "      <td>北达科他州</td>\n",
       "      <td>1159315337</td>\n",
       "      <td>POLYGON ((-97.22894 49.00089, -97.21414 48.902...</td>\n",
       "      <td>78</td>\n",
       "    </tr>\n",
       "  </tbody>\n",
       "</table>\n",
       "<p>3 rows × 85 columns</p>\n",
       "</div>"
      ],
      "text/plain": [
       "           featurecla  scalerank adm1_code  diss_me iso_3166_2  \\\n",
       "0  Admin-1 scale rank          2  USA-3514     3514      US-MN   \n",
       "1  Admin-1 scale rank          2  USA-3515     3515      US-MT   \n",
       "2  Admin-1 scale rank          2  USA-3516     3516      US-ND   \n",
       "\n",
       "                                   wikipedia iso_a2  adm0_sr          name  \\\n",
       "0     http://en.wikipedia.org/wiki/Minnesota     US        1     Minnesota   \n",
       "1       http://en.wikipedia.org/wiki/Montana     US        1       Montana   \n",
       "2  http://en.wikipedia.org/wiki/North_Dakota     US        1  North Dakota   \n",
       "\n",
       "   name_alt  ...          name_pl          name_pt          name_ru  \\\n",
       "0  MN|Minn.  ...        Minnesota        Minnesota        Миннесота   \n",
       "1  MT|Mont.  ...          Montana          Montana          Монтана   \n",
       "2   ND|N.D.  ...  Dakota Północna  Dakota do Norte  Северная Дакота   \n",
       "\n",
       "        name_sv       name_tr     name_vi name_zh       ne_id  \\\n",
       "0     Minnesota     Minnesota   Minnesota   明尼蘇達州  1159315297   \n",
       "1       Montana       Montana     Montana    蒙大拿州  1159315333   \n",
       "2  North Dakota  Kuzey Dakota  Bắc Dakota   北达科他州  1159315337   \n",
       "\n",
       "                                            geometry  number_of_fires  \n",
       "0  POLYGON ((-89.95766 47.28691, -90.13175 47.292...              433  \n",
       "1  POLYGON ((-116.04823 49.00037, -113.05950 49.0...              760  \n",
       "2  POLYGON ((-97.22894 49.00089, -97.21414 48.902...               78  \n",
       "\n",
       "[3 rows x 85 columns]"
      ]
     },
     "execution_count": 29,
     "metadata": {},
     "output_type": "execute_result"
    }
   ],
   "source": [
    "# add values to the original shapefile data as a new field\n",
    "states = states.merge(counts_per_state.reset_index(name='number_of_fires'))        \n",
    "# list first five rows of shapefile\n",
    "states.head(3)"
   ]
  },
  {
   "cell_type": "code",
   "execution_count": 30,
   "metadata": {},
   "outputs": [
    {
     "data": {
      "image/png": "[encoded data removed]",
      "text/plain": [
       "<Figure size 1080x432 with 2 Axes>"
      ]
     },
     "metadata": {
      "needs_background": "light"
     },
     "output_type": "display_data"
    }
   ],
   "source": [
    "# create map with wildfire date per state\n",
    "### 연속형에 추천\n",
    "ax = states.plot(column='number_of_fires', figsize=(15, 6), cmap='OrRd', legend=True)"
   ]
  },
  {
   "cell_type": "code",
   "execution_count": 59,
   "metadata": {},
   "outputs": [
    {
     "data": {
      "image/png": "[encoded data removed]",
      "text/plain": [
       "<Figure size 1080x432 with 2 Axes>"
      ]
     },
     "metadata": {
      "needs_background": "light"
     },
     "output_type": "display_data"
    }
   ],
   "source": [
    "# same map with different colour scheme\n",
    "### 카테고리 데이터에 추천\n",
    "ax = states.plot(column='number_of_fires', figsize=(15, 6), cmap='Accent', legend=True)"
   ]
  },
  {
   "cell_type": "code",
   "execution_count": 60,
   "metadata": {
    "scrolled": false
   },
   "outputs": [
    {
     "data": {
      "image/png": "[encoded data removed]",
      "text/plain": [
       "<Figure size 1296x432 with 2 Axes>"
      ]
     },
     "metadata": {
      "needs_background": "light"
     },
     "output_type": "display_data"
    }
   ],
   "source": [
    "# same map, but without x and y axes and added title\n",
    "import matplotlib.pyplot as plt\n",
    "f, ax = plt.subplots(1, figsize=(18,6))\n",
    "ax = states.plot(column='number_of_fires', cmap='Accent', legend=True, ax=ax)\n",
    "lims = plt.axis('equal')\n",
    "f.suptitle('US Wildfire count per state in 1984-2015')     \n",
    "ax.set_axis_off()\n",
    "plt.show()"
   ]
  },
  {
   "cell_type": "markdown",
   "metadata": {},
   "source": [
    "## 데이터 검증 문제\n",
    "\n",
    "\n",
    "누락이 있는지 확인"
   ]
  },
  {
   "cell_type": "code",
   "execution_count": 70,
   "metadata": {},
   "outputs": [
    {
     "data": {
      "text/plain": [
       "26558"
      ]
     },
     "execution_count": 70,
     "metadata": {},
     "output_type": "execute_result"
    }
   ],
   "source": [
    "### 전체 행(산불 발생 건수)\n",
    "len(fires.index)"
   ]
  },
  {
   "cell_type": "code",
   "execution_count": 69,
   "metadata": {},
   "outputs": [
    {
     "data": {
      "text/plain": [
       "26451"
      ]
     },
     "execution_count": 69,
     "metadata": {},
     "output_type": "execute_result"
    }
   ],
   "source": [
    "### 공간 결합에서 누락 발생: 107건\n",
    "counts_per_state.sum()"
   ]
  },
  {
   "cell_type": "code",
   "execution_count": 65,
   "metadata": {},
   "outputs": [
    {
     "data": {
      "text/plain": [
       "False"
      ]
     },
     "execution_count": 65,
     "metadata": {},
     "output_type": "execute_result"
    }
   ],
   "source": [
    "### 빈 값 확인\n",
    "fires.empty"
   ]
  },
  {
   "cell_type": "code",
   "execution_count": 74,
   "metadata": {},
   "outputs": [
    {
     "data": {
      "text/plain": [
       "False"
      ]
     },
     "execution_count": 74,
     "metadata": {},
     "output_type": "execute_result"
    }
   ],
   "source": [
    "### 열 이름을 통한 빈 값 확인\n",
    "fires.geometry.empty"
   ]
  },
  {
   "cell_type": "code",
   "execution_count": null,
   "metadata": {},
   "outputs": [],
   "source": []
  }
 ],
 "metadata": {
  "kernelspec": {
   "display_name": "Python 3",
   "language": "python",
   "name": "python3"
  },
  "language_info": {
   "codemirror_mode": {
    "name": "ipython",
    "version": 3
   },
   "file_extension": ".py",
   "mimetype": "text/x-python",
   "name": "python",
   "nbconvert_exporter": "python",
   "pygments_lexer": "ipython3",
   "version": "3.8.5"
  }
 },
 "nbformat": 4,
 "nbformat_minor": 2
}
